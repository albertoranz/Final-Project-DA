{
 "cells": [
  {
   "cell_type": "markdown",
   "metadata": {
    "ExecuteTime": {
     "end_time": "2021-07-27T12:30:51.712544Z",
     "start_time": "2021-07-27T12:30:51.703602Z"
    }
   },
   "source": [
    "# Neural Network for multiclass classification"
   ]
  },
  {
   "cell_type": "markdown",
   "metadata": {
    "ExecuteTime": {
     "end_time": "2021-07-27T12:34:20.088280Z",
     "start_time": "2021-07-27T12:34:20.075520Z"
    },
    "heading_collapsed": true
   },
   "source": [
    "## Import libraries"
   ]
  },
  {
   "cell_type": "code",
   "execution_count": 1,
   "metadata": {
    "ExecuteTime": {
     "end_time": "2021-07-28T20:26:12.499341Z",
     "start_time": "2021-07-28T20:26:06.607275Z"
    },
    "hidden": true
   },
   "outputs": [],
   "source": [
    "import pandas as pd\n",
    "import numpy as np\n",
    "\n",
    "import matplotlib.pyplot as plt\n",
    "import seaborn as sns\n",
    "\n",
    "import tensorflow as tf # Library to construct neural newtorks. Low level library\n",
    "from tensorflow import keras # High level library to handle tensorflow.\n",
    "from tensorflow.keras import layers\n",
    "from tensorflow.keras.layers import Flatten, Dense, Dropout # Types of layers to use in our neural network.\n",
    "from sklearn.datasets import make_classification\n",
    "\n",
    "from keras.preprocessing.image import ImageDataGenerator, array_to_img, img_to_array, load_img\n",
    "from keras.models import Sequential\n",
    "from keras.layers import Conv2D, MaxPooling2D\n",
    "from keras.layers import Activation, Dropout, Flatten, Dense\n",
    "from tensorflow.keras.callbacks import EarlyStopping \n",
    "from tensorflow.keras.callbacks import ModelCheckpoint\n",
    "\n",
    "import warnings\n",
    "warnings.filterwarnings(\"ignore\")"
   ]
  },
  {
   "cell_type": "markdown",
   "metadata": {
    "ExecuteTime": {
     "end_time": "2021-07-28T13:39:46.229346Z",
     "start_time": "2021-07-28T13:39:46.213834Z"
    },
    "heading_collapsed": true
   },
   "source": [
    "# Option without images"
   ]
  },
  {
   "cell_type": "code",
   "execution_count": 2,
   "metadata": {
    "ExecuteTime": {
     "end_time": "2021-07-28T20:20:53.572338Z",
     "start_time": "2021-07-28T20:20:53.480455Z"
    },
    "hidden": true
   },
   "outputs": [
    {
     "data": {
      "text/html": [
       "<div>\n",
       "<style scoped>\n",
       "    .dataframe tbody tr th:only-of-type {\n",
       "        vertical-align: middle;\n",
       "    }\n",
       "\n",
       "    .dataframe tbody tr th {\n",
       "        vertical-align: top;\n",
       "    }\n",
       "\n",
       "    .dataframe thead th {\n",
       "        text-align: right;\n",
       "    }\n",
       "</style>\n",
       "<table border=\"1\" class=\"dataframe\">\n",
       "  <thead>\n",
       "    <tr style=\"text-align: right;\">\n",
       "      <th></th>\n",
       "      <th>mfcc avg</th>\n",
       "      <th>mfcc mdn</th>\n",
       "      <th>mfcc std</th>\n",
       "      <th>mfcc sum</th>\n",
       "      <th>spc avg</th>\n",
       "      <th>spc mdn</th>\n",
       "      <th>spc std</th>\n",
       "      <th>spc sum</th>\n",
       "      <th>zcr avg</th>\n",
       "      <th>zcr mdn</th>\n",
       "      <th>...</th>\n",
       "      <th>poly sum</th>\n",
       "      <th>tc avg</th>\n",
       "      <th>tc mdn</th>\n",
       "      <th>tc std</th>\n",
       "      <th>tc sum</th>\n",
       "      <th>ac avg</th>\n",
       "      <th>ac mdn</th>\n",
       "      <th>ac std</th>\n",
       "      <th>ac sum</th>\n",
       "      <th>class</th>\n",
       "    </tr>\n",
       "  </thead>\n",
       "  <tbody>\n",
       "    <tr>\n",
       "      <th>0</th>\n",
       "      <td>-30.621037</td>\n",
       "      <td>0.000000</td>\n",
       "      <td>133.394226</td>\n",
       "      <td>-132282.875000</td>\n",
       "      <td>215.788225</td>\n",
       "      <td>0.000000</td>\n",
       "      <td>717.176604</td>\n",
       "      <td>46610.256598</td>\n",
       "      <td>0.012221</td>\n",
       "      <td>0.000000</td>\n",
       "      <td>...</td>\n",
       "      <td>48.567494</td>\n",
       "      <td>0.008107</td>\n",
       "      <td>0.000000</td>\n",
       "      <td>0.057337</td>\n",
       "      <td>10.506051</td>\n",
       "      <td>0.000862</td>\n",
       "      <td>-2.629388e-18</td>\n",
       "      <td>1.980245</td>\n",
       "      <td>95.034199</td>\n",
       "      <td>animals</td>\n",
       "    </tr>\n",
       "    <tr>\n",
       "      <th>1</th>\n",
       "      <td>-25.271778</td>\n",
       "      <td>-14.726506</td>\n",
       "      <td>43.930939</td>\n",
       "      <td>-109174.078125</td>\n",
       "      <td>3851.174848</td>\n",
       "      <td>3770.651034</td>\n",
       "      <td>471.515510</td>\n",
       "      <td>831853.767218</td>\n",
       "      <td>0.303727</td>\n",
       "      <td>0.303467</td>\n",
       "      <td>...</td>\n",
       "      <td>244.403774</td>\n",
       "      <td>-0.002649</td>\n",
       "      <td>-0.005608</td>\n",
       "      <td>0.079221</td>\n",
       "      <td>-3.433233</td>\n",
       "      <td>0.001883</td>\n",
       "      <td>-2.706105e-03</td>\n",
       "      <td>4.992041</td>\n",
       "      <td>207.627041</td>\n",
       "      <td>natural soundscapes &amp; water</td>\n",
       "    </tr>\n",
       "    <tr>\n",
       "      <th>2</th>\n",
       "      <td>6.678396</td>\n",
       "      <td>4.165037</td>\n",
       "      <td>16.359137</td>\n",
       "      <td>28850.671875</td>\n",
       "      <td>3417.287781</td>\n",
       "      <td>3386.712550</td>\n",
       "      <td>319.508973</td>\n",
       "      <td>738134.160685</td>\n",
       "      <td>0.385362</td>\n",
       "      <td>0.399414</td>\n",
       "      <td>...</td>\n",
       "      <td>1434.450520</td>\n",
       "      <td>0.004020</td>\n",
       "      <td>0.002992</td>\n",
       "      <td>0.041828</td>\n",
       "      <td>5.210136</td>\n",
       "      <td>0.050211</td>\n",
       "      <td>4.283366e-02</td>\n",
       "      <td>165.720405</td>\n",
       "      <td>5535.731441</td>\n",
       "      <td>interior-domestic</td>\n",
       "    </tr>\n",
       "    <tr>\n",
       "      <th>3</th>\n",
       "      <td>6.997509</td>\n",
       "      <td>4.692041</td>\n",
       "      <td>15.818431</td>\n",
       "      <td>30229.240234</td>\n",
       "      <td>3495.792669</td>\n",
       "      <td>3475.238825</td>\n",
       "      <td>183.036219</td>\n",
       "      <td>755091.216591</td>\n",
       "      <td>0.386979</td>\n",
       "      <td>0.398926</td>\n",
       "      <td>...</td>\n",
       "      <td>1451.893795</td>\n",
       "      <td>-0.004242</td>\n",
       "      <td>-0.003369</td>\n",
       "      <td>0.031381</td>\n",
       "      <td>-5.497910</td>\n",
       "      <td>0.047756</td>\n",
       "      <td>-2.901005e-01</td>\n",
       "      <td>713.349622</td>\n",
       "      <td>5265.063297</td>\n",
       "      <td>interior-domestic</td>\n",
       "    </tr>\n",
       "    <tr>\n",
       "      <th>4</th>\n",
       "      <td>-14.365158</td>\n",
       "      <td>-2.496537</td>\n",
       "      <td>98.979042</td>\n",
       "      <td>-62057.484375</td>\n",
       "      <td>1448.737715</td>\n",
       "      <td>1486.180399</td>\n",
       "      <td>390.742728</td>\n",
       "      <td>312927.346421</td>\n",
       "      <td>0.045754</td>\n",
       "      <td>0.043945</td>\n",
       "      <td>...</td>\n",
       "      <td>43.480455</td>\n",
       "      <td>0.003510</td>\n",
       "      <td>-0.000574</td>\n",
       "      <td>0.047373</td>\n",
       "      <td>4.549492</td>\n",
       "      <td>0.000060</td>\n",
       "      <td>-3.430340e-05</td>\n",
       "      <td>0.298194</td>\n",
       "      <td>6.667188</td>\n",
       "      <td>natural soundscapes &amp; water</td>\n",
       "    </tr>\n",
       "    <tr>\n",
       "      <th>...</th>\n",
       "      <td>...</td>\n",
       "      <td>...</td>\n",
       "      <td>...</td>\n",
       "      <td>...</td>\n",
       "      <td>...</td>\n",
       "      <td>...</td>\n",
       "      <td>...</td>\n",
       "      <td>...</td>\n",
       "      <td>...</td>\n",
       "      <td>...</td>\n",
       "      <td>...</td>\n",
       "      <td>...</td>\n",
       "      <td>...</td>\n",
       "      <td>...</td>\n",
       "      <td>...</td>\n",
       "      <td>...</td>\n",
       "      <td>...</td>\n",
       "      <td>...</td>\n",
       "      <td>...</td>\n",
       "      <td>...</td>\n",
       "      <td>...</td>\n",
       "    </tr>\n",
       "    <tr>\n",
       "      <th>1995</th>\n",
       "      <td>-6.576713</td>\n",
       "      <td>-0.237287</td>\n",
       "      <td>59.854641</td>\n",
       "      <td>-28411.398438</td>\n",
       "      <td>1747.478407</td>\n",
       "      <td>1671.889413</td>\n",
       "      <td>306.301225</td>\n",
       "      <td>377455.335829</td>\n",
       "      <td>0.103850</td>\n",
       "      <td>0.097412</td>\n",
       "      <td>...</td>\n",
       "      <td>433.033715</td>\n",
       "      <td>0.022402</td>\n",
       "      <td>0.004366</td>\n",
       "      <td>0.099978</td>\n",
       "      <td>29.033614</td>\n",
       "      <td>0.007470</td>\n",
       "      <td>5.828310e-05</td>\n",
       "      <td>23.564728</td>\n",
       "      <td>823.530559</td>\n",
       "      <td>animals</td>\n",
       "    </tr>\n",
       "    <tr>\n",
       "      <th>1996</th>\n",
       "      <td>-12.022120</td>\n",
       "      <td>-10.838694</td>\n",
       "      <td>15.031034</td>\n",
       "      <td>-51935.558594</td>\n",
       "      <td>4090.176813</td>\n",
       "      <td>4087.804534</td>\n",
       "      <td>86.412482</td>\n",
       "      <td>883478.191684</td>\n",
       "      <td>0.309326</td>\n",
       "      <td>0.314209</td>\n",
       "      <td>...</td>\n",
       "      <td>631.218991</td>\n",
       "      <td>-0.022439</td>\n",
       "      <td>-0.024682</td>\n",
       "      <td>0.060606</td>\n",
       "      <td>-29.080494</td>\n",
       "      <td>0.006472</td>\n",
       "      <td>1.537501e-02</td>\n",
       "      <td>79.680088</td>\n",
       "      <td>713.503296</td>\n",
       "      <td>interior-domestic</td>\n",
       "    </tr>\n",
       "    <tr>\n",
       "      <th>1997</th>\n",
       "      <td>-6.922936</td>\n",
       "      <td>0.210413</td>\n",
       "      <td>76.220184</td>\n",
       "      <td>-29907.085938</td>\n",
       "      <td>1405.561102</td>\n",
       "      <td>1518.197320</td>\n",
       "      <td>952.325587</td>\n",
       "      <td>303601.198062</td>\n",
       "      <td>0.041597</td>\n",
       "      <td>0.031738</td>\n",
       "      <td>...</td>\n",
       "      <td>325.879781</td>\n",
       "      <td>0.003534</td>\n",
       "      <td>-0.001723</td>\n",
       "      <td>0.054725</td>\n",
       "      <td>4.580664</td>\n",
       "      <td>0.008843</td>\n",
       "      <td>-7.706453e-16</td>\n",
       "      <td>57.809372</td>\n",
       "      <td>974.955606</td>\n",
       "      <td>human</td>\n",
       "    </tr>\n",
       "    <tr>\n",
       "      <th>1998</th>\n",
       "      <td>-2.007078</td>\n",
       "      <td>1.065828</td>\n",
       "      <td>43.239983</td>\n",
       "      <td>-8670.578125</td>\n",
       "      <td>2345.897297</td>\n",
       "      <td>2325.234869</td>\n",
       "      <td>324.291507</td>\n",
       "      <td>506713.816239</td>\n",
       "      <td>0.112822</td>\n",
       "      <td>0.115967</td>\n",
       "      <td>...</td>\n",
       "      <td>443.478158</td>\n",
       "      <td>0.002648</td>\n",
       "      <td>0.003629</td>\n",
       "      <td>0.044488</td>\n",
       "      <td>3.431848</td>\n",
       "      <td>0.002788</td>\n",
       "      <td>-1.577616e-02</td>\n",
       "      <td>4.704439</td>\n",
       "      <td>307.363161</td>\n",
       "      <td>animals</td>\n",
       "    </tr>\n",
       "    <tr>\n",
       "      <th>1999</th>\n",
       "      <td>-24.182295</td>\n",
       "      <td>0.000000</td>\n",
       "      <td>113.470818</td>\n",
       "      <td>-104467.515625</td>\n",
       "      <td>2094.141640</td>\n",
       "      <td>2916.537518</td>\n",
       "      <td>1804.158324</td>\n",
       "      <td>452334.594198</td>\n",
       "      <td>0.122866</td>\n",
       "      <td>0.135254</td>\n",
       "      <td>...</td>\n",
       "      <td>134.312011</td>\n",
       "      <td>0.002515</td>\n",
       "      <td>0.002617</td>\n",
       "      <td>0.075578</td>\n",
       "      <td>3.259941</td>\n",
       "      <td>0.002130</td>\n",
       "      <td>6.481551e-16</td>\n",
       "      <td>3.861148</td>\n",
       "      <td>234.872327</td>\n",
       "      <td>animals</td>\n",
       "    </tr>\n",
       "  </tbody>\n",
       "</table>\n",
       "<p>2000 rows × 49 columns</p>\n",
       "</div>"
      ],
      "text/plain": [
       "       mfcc avg   mfcc mdn    mfcc std       mfcc sum      spc avg  \\\n",
       "0    -30.621037   0.000000  133.394226 -132282.875000   215.788225   \n",
       "1    -25.271778 -14.726506   43.930939 -109174.078125  3851.174848   \n",
       "2      6.678396   4.165037   16.359137   28850.671875  3417.287781   \n",
       "3      6.997509   4.692041   15.818431   30229.240234  3495.792669   \n",
       "4    -14.365158  -2.496537   98.979042  -62057.484375  1448.737715   \n",
       "...         ...        ...         ...            ...          ...   \n",
       "1995  -6.576713  -0.237287   59.854641  -28411.398438  1747.478407   \n",
       "1996 -12.022120 -10.838694   15.031034  -51935.558594  4090.176813   \n",
       "1997  -6.922936   0.210413   76.220184  -29907.085938  1405.561102   \n",
       "1998  -2.007078   1.065828   43.239983   -8670.578125  2345.897297   \n",
       "1999 -24.182295   0.000000  113.470818 -104467.515625  2094.141640   \n",
       "\n",
       "          spc mdn      spc std        spc sum   zcr avg   zcr mdn  ...  \\\n",
       "0        0.000000   717.176604   46610.256598  0.012221  0.000000  ...   \n",
       "1     3770.651034   471.515510  831853.767218  0.303727  0.303467  ...   \n",
       "2     3386.712550   319.508973  738134.160685  0.385362  0.399414  ...   \n",
       "3     3475.238825   183.036219  755091.216591  0.386979  0.398926  ...   \n",
       "4     1486.180399   390.742728  312927.346421  0.045754  0.043945  ...   \n",
       "...           ...          ...            ...       ...       ...  ...   \n",
       "1995  1671.889413   306.301225  377455.335829  0.103850  0.097412  ...   \n",
       "1996  4087.804534    86.412482  883478.191684  0.309326  0.314209  ...   \n",
       "1997  1518.197320   952.325587  303601.198062  0.041597  0.031738  ...   \n",
       "1998  2325.234869   324.291507  506713.816239  0.112822  0.115967  ...   \n",
       "1999  2916.537518  1804.158324  452334.594198  0.122866  0.135254  ...   \n",
       "\n",
       "         poly sum    tc avg    tc mdn    tc std     tc sum    ac avg  \\\n",
       "0       48.567494  0.008107  0.000000  0.057337  10.506051  0.000862   \n",
       "1      244.403774 -0.002649 -0.005608  0.079221  -3.433233  0.001883   \n",
       "2     1434.450520  0.004020  0.002992  0.041828   5.210136  0.050211   \n",
       "3     1451.893795 -0.004242 -0.003369  0.031381  -5.497910  0.047756   \n",
       "4       43.480455  0.003510 -0.000574  0.047373   4.549492  0.000060   \n",
       "...           ...       ...       ...       ...        ...       ...   \n",
       "1995   433.033715  0.022402  0.004366  0.099978  29.033614  0.007470   \n",
       "1996   631.218991 -0.022439 -0.024682  0.060606 -29.080494  0.006472   \n",
       "1997   325.879781  0.003534 -0.001723  0.054725   4.580664  0.008843   \n",
       "1998   443.478158  0.002648  0.003629  0.044488   3.431848  0.002788   \n",
       "1999   134.312011  0.002515  0.002617  0.075578   3.259941  0.002130   \n",
       "\n",
       "            ac mdn      ac std       ac sum                        class  \n",
       "0    -2.629388e-18    1.980245    95.034199                      animals  \n",
       "1    -2.706105e-03    4.992041   207.627041  natural soundscapes & water  \n",
       "2     4.283366e-02  165.720405  5535.731441            interior-domestic  \n",
       "3    -2.901005e-01  713.349622  5265.063297            interior-domestic  \n",
       "4    -3.430340e-05    0.298194     6.667188  natural soundscapes & water  \n",
       "...            ...         ...          ...                          ...  \n",
       "1995  5.828310e-05   23.564728   823.530559                      animals  \n",
       "1996  1.537501e-02   79.680088   713.503296            interior-domestic  \n",
       "1997 -7.706453e-16   57.809372   974.955606                        human  \n",
       "1998 -1.577616e-02    4.704439   307.363161                      animals  \n",
       "1999  6.481551e-16    3.861148   234.872327                      animals  \n",
       "\n",
       "[2000 rows x 49 columns]"
      ]
     },
     "execution_count": 2,
     "metadata": {},
     "output_type": "execute_result"
    }
   ],
   "source": [
    "feat_df = pd.read_csv(r\"C:\\Users\\trito.DESKTOP-V9IEUOR\\Desktop\\IronHack Data Analyst\\Projects\\Final-Project-DA\\Data\\final_df.csv\")\n",
    "feat_df[\"class\"] = feat_df[\"class\"].str.replace(\"/\", \"-\")\n",
    "feat_df = feat_df.drop(columns=[\"Unnamed: 0\",\"Unnamed: 0.1\", \"file name\", \"filename\", \"category\"])\n",
    "feat_df"
   ]
  },
  {
   "cell_type": "markdown",
   "metadata": {
    "heading_collapsed": true,
    "hidden": true
   },
   "source": [
    "## Model"
   ]
  },
  {
   "cell_type": "code",
   "execution_count": 3,
   "metadata": {
    "ExecuteTime": {
     "end_time": "2021-07-28T20:20:53.588261Z",
     "start_time": "2021-07-28T20:20:53.575294Z"
    },
    "hidden": true
   },
   "outputs": [
    {
     "data": {
      "text/plain": [
       "['mfcc mdn',\n",
       " 'mfcc sum',\n",
       " 'spc mdn',\n",
       " 'spc sum',\n",
       " 'zcr mdn',\n",
       " 'zcr sum',\n",
       " 'chroma mdn',\n",
       " 'chroma sum',\n",
       " 'sro mdn',\n",
       " 'sro sum',\n",
       " 'spbw mdn',\n",
       " 'spbw sum',\n",
       " 'rms mdn',\n",
       " 'rms sum',\n",
       " 'spfl mdn',\n",
       " 'spfl sum',\n",
       " 'spct mdn',\n",
       " 'spct sum',\n",
       " 'poly mdn',\n",
       " 'poly sum',\n",
       " 'tc mdn',\n",
       " 'tc sum',\n",
       " 'ac mdn',\n",
       " 'ac sum']"
      ]
     },
     "execution_count": 3,
     "metadata": {},
     "output_type": "execute_result"
    }
   ],
   "source": [
    "columns_todrop = []\n",
    "for i in feat_df.columns:\n",
    "    if \"mdn\" in i or \"sum\" in i:\n",
    "        columns_todrop.append(i)\n",
    "columns_todrop"
   ]
  },
  {
   "cell_type": "code",
   "execution_count": 4,
   "metadata": {
    "ExecuteTime": {
     "end_time": "2021-07-28T20:20:53.619710Z",
     "start_time": "2021-07-28T20:20:53.590255Z"
    },
    "hidden": true
   },
   "outputs": [
    {
     "data": {
      "text/plain": [
       "['mfcc avg',\n",
       " 'spc avg',\n",
       " 'zcr avg',\n",
       " 'chroma avg',\n",
       " 'sro avg',\n",
       " 'spbw avg',\n",
       " 'rms avg',\n",
       " 'spfl avg',\n",
       " 'spct avg',\n",
       " 'poly avg',\n",
       " 'tc avg',\n",
       " 'ac avg']"
      ]
     },
     "execution_count": 4,
     "metadata": {},
     "output_type": "execute_result"
    }
   ],
   "source": [
    "columns_avg = []\n",
    "for i in feat_df.columns:\n",
    "    if \"avg\" in i:\n",
    "        columns_avg.append(i)\n",
    "columns_avg"
   ]
  },
  {
   "cell_type": "code",
   "execution_count": 5,
   "metadata": {
    "ExecuteTime": {
     "end_time": "2021-07-28T20:20:55.688351Z",
     "start_time": "2021-07-28T20:20:55.669402Z"
    },
    "hidden": true
   },
   "outputs": [
    {
     "data": {
      "text/plain": [
       "array([[1., 0., 0., 0., 0.],\n",
       "       [0., 1., 0., 0., 0.],\n",
       "       [0., 0., 1., 0., 0.],\n",
       "       ...,\n",
       "       [0., 0., 0., 1., 0.],\n",
       "       [1., 0., 0., 0., 0.],\n",
       "       [1., 0., 0., 0., 0.]], dtype=float32)"
      ]
     },
     "execution_count": 5,
     "metadata": {},
     "output_type": "execute_result"
    }
   ],
   "source": [
    "# CHanging the y set to categorical array.\n",
    "y = feat_df[\"class\"]\n",
    "y_values = y.unique().tolist()\n",
    "class_conversion = { value: index for index, value in enumerate(y_values)}\n",
    "y1 = y.replace(class_conversion)\n",
    "y_a = keras.utils.to_categorical(y1, num_classes=5)\n",
    "y_a"
   ]
  },
  {
   "cell_type": "code",
   "execution_count": 6,
   "metadata": {
    "ExecuteTime": {
     "end_time": "2021-07-28T20:21:12.534896Z",
     "start_time": "2021-07-28T20:21:12.486940Z"
    },
    "hidden": true
   },
   "outputs": [],
   "source": [
    "from sklearn.model_selection import train_test_split\n",
    "X = feat_df.drop(columns_todrop+[\"class\"], axis=1)   # COntains all the avg and std.\n",
    "# X = feat_df.drop(columns_todrop+columns_avg+[\"class\"], axis=1) # Only columns with std\n",
    "# X = feat_df[[\"mfcc avg\", \"spc avg\", \"zcr avg\"]] # Looks okay\n",
    "# X = feat_df[[\"mfcc std\", \"zcr std\", \"chroma std\", \"spfl std\"]]\n",
    "\n",
    "y = y_a\n",
    "X_train, X_test, y_train, y_test = train_test_split(X, y, test_size=0.20, random_state=7)"
   ]
  },
  {
   "cell_type": "code",
   "execution_count": 7,
   "metadata": {
    "ExecuteTime": {
     "end_time": "2021-07-28T20:21:16.861741Z",
     "start_time": "2021-07-28T20:21:16.755664Z"
    },
    "hidden": true
   },
   "outputs": [],
   "source": [
    "from sklearn.preprocessing import PowerTransformer\n",
    "\n",
    "trans = PowerTransformer()\n",
    "trans.fit(X_train)\n",
    "\n",
    "X_train_trans = trans.transform(X_train)\n",
    "X_test_trans = trans.transform(X_test)\n",
    "\n",
    "X_train_trans = pd.DataFrame(X_train_trans, columns = X_train.columns) # To have columns names.\n",
    "X_test_trans = pd.DataFrame(X_test_trans,  columns = X_test.columns)"
   ]
  },
  {
   "cell_type": "code",
   "execution_count": 8,
   "metadata": {
    "ExecuteTime": {
     "end_time": "2021-07-28T20:21:20.362638Z",
     "start_time": "2021-07-28T20:21:19.776562Z"
    },
    "hidden": true
   },
   "outputs": [],
   "source": [
    "model_c1 = keras.Sequential()\n",
    "# each neuron will have a \"RELU\" activation function\n",
    "model_c1.add(Dense(units = 256,input_dim = X_train.shape[1],activation='relu')) # Firstly units=32\n",
    "model_c1.add( Dropout(0.5) )\n",
    "# Adding a new hidden layer with three neurons with \"RELU\" activation function\n",
    "model_c1.add(Dense(units = 128,activation='relu')) #Firstly units=16\n",
    "model_c1.add( Dropout(0.5) )\n",
    "# Adding the final layer\n",
    "model_c1.add(Dense(units = 5, activation='softmax'))\n",
    "\n",
    "# Compile the final network\n",
    "model_c1.compile(optimizer='rmsprop', # Optimization method\n",
    "              loss='categorical_crossentropy', # Error metric to minimize\n",
    "              metrics=['accuracy']) # Error metrics to report\n",
    "\n",
    "# model_c1.summary()"
   ]
  },
  {
   "cell_type": "code",
   "execution_count": 13,
   "metadata": {
    "ExecuteTime": {
     "end_time": "2021-07-28T20:23:31.900298Z",
     "start_time": "2021-07-28T20:23:31.885322Z"
    },
    "hidden": true
   },
   "outputs": [],
   "source": [
    "early_stopping = EarlyStopping(patience=5)\n",
    "checkpoint_path = r'C:\\Users\\trito.DESKTOP-V9IEUOR\\Desktop\\IronHack Data Analyst\\Projects\\Final-Project-DA\\Code\\Saved models\\cls-nn4.hdf5'\n",
    "# checkpoint = ModelCheckpoint(filepath=checkpoint_path, save_freq='epoch', save_weights_only=False, verbose=1)"
   ]
  },
  {
   "cell_type": "code",
   "execution_count": 15,
   "metadata": {
    "ExecuteTime": {
     "end_time": "2021-07-28T20:25:32.634985Z",
     "start_time": "2021-07-28T20:25:30.411583Z"
    },
    "hidden": true
   },
   "outputs": [
    {
     "name": "stdout",
     "output_type": "stream",
     "text": [
      "Epoch 1/60\n",
      "128/128 - 0s - loss: 2.0842 - accuracy: 0.2109 - val_loss: 1.6098 - val_accuracy: 0.2031\n",
      "Epoch 2/60\n",
      "128/128 - 0s - loss: 1.7785 - accuracy: 0.2109 - val_loss: 1.6098 - val_accuracy: 0.2031\n",
      "Epoch 3/60\n",
      "128/128 - 0s - loss: 1.8391 - accuracy: 0.2109 - val_loss: 1.6098 - val_accuracy: 0.2031\n",
      "Epoch 4/60\n",
      "128/128 - 0s - loss: 1.9688 - accuracy: 0.2078 - val_loss: 1.6097 - val_accuracy: 0.2031\n",
      "Epoch 5/60\n",
      "128/128 - 0s - loss: 1.7690 - accuracy: 0.2117 - val_loss: 1.6097 - val_accuracy: 0.2031\n",
      "Epoch 6/60\n",
      "128/128 - 0s - loss: 1.9376 - accuracy: 0.2117 - val_loss: 1.6096 - val_accuracy: 0.2031\n",
      "Epoch 7/60\n",
      "128/128 - 0s - loss: 2.0045 - accuracy: 0.2062 - val_loss: 1.6095 - val_accuracy: 0.2031\n",
      "Epoch 8/60\n",
      "128/128 - 0s - loss: 1.8031 - accuracy: 0.2039 - val_loss: 1.6095 - val_accuracy: 0.2031\n",
      "Epoch 9/60\n",
      "128/128 - 0s - loss: 1.8638 - accuracy: 0.2156 - val_loss: 1.6095 - val_accuracy: 0.2031\n",
      "Epoch 10/60\n",
      "128/128 - 0s - loss: 1.7445 - accuracy: 0.2125 - val_loss: 1.6096 - val_accuracy: 0.2031\n",
      "Epoch 11/60\n",
      "128/128 - 0s - loss: 1.7776 - accuracy: 0.2062 - val_loss: 1.6096 - val_accuracy: 0.2031\n",
      "Epoch 12/60\n",
      "128/128 - 0s - loss: 1.7590 - accuracy: 0.2086 - val_loss: 1.6096 - val_accuracy: 0.2031\n",
      "Epoch 13/60\n",
      "128/128 - 0s - loss: 1.7327 - accuracy: 0.2094 - val_loss: 1.6097 - val_accuracy: 0.2031\n",
      "Epoch 14/60\n",
      "128/128 - 0s - loss: 1.7878 - accuracy: 0.2086 - val_loss: 1.6097 - val_accuracy: 0.2031\n"
     ]
    }
   ],
   "source": [
    "history_c1 = model_c1.fit(X_train, y_train, epochs=60, validation_split=0.20, batch_size=10, verbose=2, callbacks=[early_stopping]) #,checkpoint"
   ]
  },
  {
   "cell_type": "code",
   "execution_count": 16,
   "metadata": {
    "ExecuteTime": {
     "end_time": "2021-07-28T20:25:41.261113Z",
     "start_time": "2021-07-28T20:25:40.919293Z"
    },
    "hidden": true
   },
   "outputs": [
    {
     "data": {
      "image/png": "[encoded data removed]",
      "text/plain": [
       "<Figure size 432x288 with 1 Axes>"
      ]
     },
     "metadata": {
      "needs_background": "light"
     },
     "output_type": "display_data"
    }
   ],
   "source": [
    "def plot_metric(history, metric):\n",
    "    train_metrics = history.history[metric]\n",
    "    val_metrics = history.history['val_'+metric]\n",
    "    epochs = range(1, len(train_metrics) + 1)\n",
    "    plt.plot(epochs, train_metrics)\n",
    "    plt.plot(epochs, val_metrics)\n",
    "    plt.title('Training and validation '+ metric)\n",
    "    plt.xlabel(\"Epochs\")\n",
    "    plt.ylabel(metric)\n",
    "    plt.yscale('log')\n",
    "    plt.legend([\"train_\"+metric, 'val_'+metric])\n",
    "    plt.show()\n",
    "\n",
    "plot_metric(history_c1,'loss')"
   ]
  },
  {
   "cell_type": "code",
   "execution_count": 249,
   "metadata": {
    "ExecuteTime": {
     "end_time": "2021-07-28T15:29:07.786506Z",
     "start_time": "2021-07-28T15:29:07.778491Z"
    },
    "hidden": true
   },
   "outputs": [],
   "source": [
    "def model_performance_class(y_train, y_pred_train, y_test, y_pred_test):\n",
    "\n",
    "    from sklearn.metrics import cohen_kappa_score, classification_report \n",
    "\n",
    "\n",
    "    print(\"Results obtained for the TRAIN SET\")\n",
    "    print(\"==================================\")\n",
    "    print(\"The Cohen's Kappa is: {:.2f}\".format(cohen_kappa_score(y_train, y_pred_train)))\n",
    "    print(classification_report(y_train, y_pred_train))\n",
    "    print(\"==================================\")\n",
    "    print(\"Results obtained for the TEST SET\")\n",
    "    print(\"The Cohen's Kappa is: {:.2f}\".format(cohen_kappa_score(y_test, y_pred_test)))\n",
    "    print(classification_report(y_test, y_pred_test))"
   ]
  },
  {
   "cell_type": "code",
   "execution_count": 251,
   "metadata": {
    "ExecuteTime": {
     "end_time": "2021-07-28T15:29:45.876272Z",
     "start_time": "2021-07-28T15:29:45.739768Z"
    },
    "hidden": true
   },
   "outputs": [
    {
     "name": "stdout",
     "output_type": "stream",
     "text": [
      "Results obtained for the TRAIN SET\n",
      "==================================\n"
     ]
    },
    {
     "ename": "ValueError",
     "evalue": "Classification metrics can't handle a mix of multilabel-indicator and multiclass targets",
     "output_type": "error",
     "traceback": [
      "\u001b[1;31m---------------------------------------------------------------------------\u001b[0m",
      "\u001b[1;31mValueError\u001b[0m                                Traceback (most recent call last)",
      "\u001b[1;32m<ipython-input-251-1c628eb6c0ad>\u001b[0m in \u001b[0;36m<module>\u001b[1;34m\u001b[0m\n\u001b[0;32m      7\u001b[0m \u001b[0my_pred_test_c1\u001b[0m  \u001b[1;33m=\u001b[0m \u001b[0mnp\u001b[0m\u001b[1;33m.\u001b[0m\u001b[0margmax\u001b[0m\u001b[1;33m(\u001b[0m\u001b[0my_pred_test_c1\u001b[0m\u001b[1;33m,\u001b[0m \u001b[0maxis\u001b[0m\u001b[1;33m=\u001b[0m\u001b[1;36m1\u001b[0m\u001b[1;33m)\u001b[0m\u001b[1;33m.\u001b[0m\u001b[0mreshape\u001b[0m\u001b[1;33m(\u001b[0m\u001b[1;33m-\u001b[0m\u001b[1;36m1\u001b[0m\u001b[1;33m,\u001b[0m\u001b[1;36m1\u001b[0m\u001b[1;33m)\u001b[0m\u001b[1;33m\u001b[0m\u001b[1;33m\u001b[0m\u001b[0m\n\u001b[0;32m      8\u001b[0m \u001b[1;33m\u001b[0m\u001b[0m\n\u001b[1;32m----> 9\u001b[1;33m \u001b[0mmodel_performance_class\u001b[0m\u001b[1;33m(\u001b[0m\u001b[0my_train\u001b[0m\u001b[1;33m,\u001b[0m \u001b[0my_pred_train_c1\u001b[0m\u001b[1;33m,\u001b[0m \u001b[0my_test\u001b[0m\u001b[1;33m,\u001b[0m \u001b[0my_pred_test_c2\u001b[0m\u001b[1;33m)\u001b[0m\u001b[1;33m\u001b[0m\u001b[1;33m\u001b[0m\u001b[0m\n\u001b[0m\u001b[0;32m     10\u001b[0m \u001b[1;33m\u001b[0m\u001b[0m\n\u001b[0;32m     11\u001b[0m \u001b[1;31m# Acceptable Kappa is above 0.60\u001b[0m\u001b[1;33m\u001b[0m\u001b[1;33m\u001b[0m\u001b[1;33m\u001b[0m\u001b[0m\n",
      "\u001b[1;32m<ipython-input-249-064b3cd225c9>\u001b[0m in \u001b[0;36mmodel_performance_class\u001b[1;34m(y_train, y_pred_train, y_test, y_pred_test)\u001b[0m\n\u001b[0;32m      6\u001b[0m     \u001b[0mprint\u001b[0m\u001b[1;33m(\u001b[0m\u001b[1;34m\"Results obtained for the TRAIN SET\"\u001b[0m\u001b[1;33m)\u001b[0m\u001b[1;33m\u001b[0m\u001b[1;33m\u001b[0m\u001b[0m\n\u001b[0;32m      7\u001b[0m     \u001b[0mprint\u001b[0m\u001b[1;33m(\u001b[0m\u001b[1;34m\"==================================\"\u001b[0m\u001b[1;33m)\u001b[0m\u001b[1;33m\u001b[0m\u001b[1;33m\u001b[0m\u001b[0m\n\u001b[1;32m----> 8\u001b[1;33m     \u001b[0mprint\u001b[0m\u001b[1;33m(\u001b[0m\u001b[1;34m\"The Cohen's Kappa is: {:.2f}\"\u001b[0m\u001b[1;33m.\u001b[0m\u001b[0mformat\u001b[0m\u001b[1;33m(\u001b[0m\u001b[0mcohen_kappa_score\u001b[0m\u001b[1;33m(\u001b[0m\u001b[0my_train\u001b[0m\u001b[1;33m,\u001b[0m \u001b[0my_pred_train\u001b[0m\u001b[1;33m)\u001b[0m\u001b[1;33m)\u001b[0m\u001b[1;33m)\u001b[0m\u001b[1;33m\u001b[0m\u001b[1;33m\u001b[0m\u001b[0m\n\u001b[0m\u001b[0;32m      9\u001b[0m     \u001b[0mprint\u001b[0m\u001b[1;33m(\u001b[0m\u001b[0mclassification_report\u001b[0m\u001b[1;33m(\u001b[0m\u001b[0my_train\u001b[0m\u001b[1;33m,\u001b[0m \u001b[0my_pred_train\u001b[0m\u001b[1;33m)\u001b[0m\u001b[1;33m)\u001b[0m\u001b[1;33m\u001b[0m\u001b[1;33m\u001b[0m\u001b[0m\n\u001b[0;32m     10\u001b[0m     \u001b[0mprint\u001b[0m\u001b[1;33m(\u001b[0m\u001b[1;34m\"==================================\"\u001b[0m\u001b[1;33m)\u001b[0m\u001b[1;33m\u001b[0m\u001b[1;33m\u001b[0m\u001b[0m\n",
      "\u001b[1;32m~\\anaconda3\\lib\\site-packages\\sklearn\\utils\\validation.py\u001b[0m in \u001b[0;36minner_f\u001b[1;34m(*args, **kwargs)\u001b[0m\n\u001b[0;32m     70\u001b[0m                           FutureWarning)\n\u001b[0;32m     71\u001b[0m         \u001b[0mkwargs\u001b[0m\u001b[1;33m.\u001b[0m\u001b[0mupdate\u001b[0m\u001b[1;33m(\u001b[0m\u001b[1;33m{\u001b[0m\u001b[0mk\u001b[0m\u001b[1;33m:\u001b[0m \u001b[0marg\u001b[0m \u001b[1;32mfor\u001b[0m \u001b[0mk\u001b[0m\u001b[1;33m,\u001b[0m \u001b[0marg\u001b[0m \u001b[1;32min\u001b[0m \u001b[0mzip\u001b[0m\u001b[1;33m(\u001b[0m\u001b[0msig\u001b[0m\u001b[1;33m.\u001b[0m\u001b[0mparameters\u001b[0m\u001b[1;33m,\u001b[0m \u001b[0margs\u001b[0m\u001b[1;33m)\u001b[0m\u001b[1;33m}\u001b[0m\u001b[1;33m)\u001b[0m\u001b[1;33m\u001b[0m\u001b[1;33m\u001b[0m\u001b[0m\n\u001b[1;32m---> 72\u001b[1;33m         \u001b[1;32mreturn\u001b[0m \u001b[0mf\u001b[0m\u001b[1;33m(\u001b[0m\u001b[1;33m**\u001b[0m\u001b[0mkwargs\u001b[0m\u001b[1;33m)\u001b[0m\u001b[1;33m\u001b[0m\u001b[1;33m\u001b[0m\u001b[0m\n\u001b[0m\u001b[0;32m     73\u001b[0m     \u001b[1;32mreturn\u001b[0m \u001b[0minner_f\u001b[0m\u001b[1;33m\u001b[0m\u001b[1;33m\u001b[0m\u001b[0m\n\u001b[0;32m     74\u001b[0m \u001b[1;33m\u001b[0m\u001b[0m\n",
      "\u001b[1;32m~\\anaconda3\\lib\\site-packages\\sklearn\\metrics\\_classification.py\u001b[0m in \u001b[0;36mcohen_kappa_score\u001b[1;34m(y1, y2, labels, weights, sample_weight)\u001b[0m\n\u001b[0;32m    598\u001b[0m             \u001b[1;33m<\u001b[0m\u001b[0mhttps\u001b[0m\u001b[1;33m:\u001b[0m\u001b[1;33m//\u001b[0m\u001b[0men\u001b[0m\u001b[1;33m.\u001b[0m\u001b[0mwikipedia\u001b[0m\u001b[1;33m.\u001b[0m\u001b[0morg\u001b[0m\u001b[1;33m/\u001b[0m\u001b[0mwiki\u001b[0m\u001b[1;33m/\u001b[0m\u001b[0mCohen\u001b[0m\u001b[1;33m%\u001b[0m\u001b[1;36m27\u001b[0m\u001b[0ms_kappa\u001b[0m\u001b[1;33m>\u001b[0m\u001b[0;31m`\u001b[0m\u001b[0m_\u001b[0m\u001b[1;33m\u001b[0m\u001b[1;33m\u001b[0m\u001b[0m\n\u001b[0;32m    599\u001b[0m     \"\"\"\n\u001b[1;32m--> 600\u001b[1;33m     confusion = confusion_matrix(y1, y2, labels=labels,\n\u001b[0m\u001b[0;32m    601\u001b[0m                                  sample_weight=sample_weight)\n\u001b[0;32m    602\u001b[0m     \u001b[0mn_classes\u001b[0m \u001b[1;33m=\u001b[0m \u001b[0mconfusion\u001b[0m\u001b[1;33m.\u001b[0m\u001b[0mshape\u001b[0m\u001b[1;33m[\u001b[0m\u001b[1;36m0\u001b[0m\u001b[1;33m]\u001b[0m\u001b[1;33m\u001b[0m\u001b[1;33m\u001b[0m\u001b[0m\n",
      "\u001b[1;32m~\\anaconda3\\lib\\site-packages\\sklearn\\utils\\validation.py\u001b[0m in \u001b[0;36minner_f\u001b[1;34m(*args, **kwargs)\u001b[0m\n\u001b[0;32m     70\u001b[0m                           FutureWarning)\n\u001b[0;32m     71\u001b[0m         \u001b[0mkwargs\u001b[0m\u001b[1;33m.\u001b[0m\u001b[0mupdate\u001b[0m\u001b[1;33m(\u001b[0m\u001b[1;33m{\u001b[0m\u001b[0mk\u001b[0m\u001b[1;33m:\u001b[0m \u001b[0marg\u001b[0m \u001b[1;32mfor\u001b[0m \u001b[0mk\u001b[0m\u001b[1;33m,\u001b[0m \u001b[0marg\u001b[0m \u001b[1;32min\u001b[0m \u001b[0mzip\u001b[0m\u001b[1;33m(\u001b[0m\u001b[0msig\u001b[0m\u001b[1;33m.\u001b[0m\u001b[0mparameters\u001b[0m\u001b[1;33m,\u001b[0m \u001b[0margs\u001b[0m\u001b[1;33m)\u001b[0m\u001b[1;33m}\u001b[0m\u001b[1;33m)\u001b[0m\u001b[1;33m\u001b[0m\u001b[1;33m\u001b[0m\u001b[0m\n\u001b[1;32m---> 72\u001b[1;33m         \u001b[1;32mreturn\u001b[0m \u001b[0mf\u001b[0m\u001b[1;33m(\u001b[0m\u001b[1;33m**\u001b[0m\u001b[0mkwargs\u001b[0m\u001b[1;33m)\u001b[0m\u001b[1;33m\u001b[0m\u001b[1;33m\u001b[0m\u001b[0m\n\u001b[0m\u001b[0;32m     73\u001b[0m     \u001b[1;32mreturn\u001b[0m \u001b[0minner_f\u001b[0m\u001b[1;33m\u001b[0m\u001b[1;33m\u001b[0m\u001b[0m\n\u001b[0;32m     74\u001b[0m \u001b[1;33m\u001b[0m\u001b[0m\n",
      "\u001b[1;32m~\\anaconda3\\lib\\site-packages\\sklearn\\metrics\\_classification.py\u001b[0m in \u001b[0;36mconfusion_matrix\u001b[1;34m(y_true, y_pred, labels, sample_weight, normalize)\u001b[0m\n\u001b[0;32m    274\u001b[0m \u001b[1;33m\u001b[0m\u001b[0m\n\u001b[0;32m    275\u001b[0m     \"\"\"\n\u001b[1;32m--> 276\u001b[1;33m     \u001b[0my_type\u001b[0m\u001b[1;33m,\u001b[0m \u001b[0my_true\u001b[0m\u001b[1;33m,\u001b[0m \u001b[0my_pred\u001b[0m \u001b[1;33m=\u001b[0m \u001b[0m_check_targets\u001b[0m\u001b[1;33m(\u001b[0m\u001b[0my_true\u001b[0m\u001b[1;33m,\u001b[0m \u001b[0my_pred\u001b[0m\u001b[1;33m)\u001b[0m\u001b[1;33m\u001b[0m\u001b[1;33m\u001b[0m\u001b[0m\n\u001b[0m\u001b[0;32m    277\u001b[0m     \u001b[1;32mif\u001b[0m \u001b[0my_type\u001b[0m \u001b[1;32mnot\u001b[0m \u001b[1;32min\u001b[0m \u001b[1;33m(\u001b[0m\u001b[1;34m\"binary\"\u001b[0m\u001b[1;33m,\u001b[0m \u001b[1;34m\"multiclass\"\u001b[0m\u001b[1;33m)\u001b[0m\u001b[1;33m:\u001b[0m\u001b[1;33m\u001b[0m\u001b[1;33m\u001b[0m\u001b[0m\n\u001b[0;32m    278\u001b[0m         \u001b[1;32mraise\u001b[0m \u001b[0mValueError\u001b[0m\u001b[1;33m(\u001b[0m\u001b[1;34m\"%s is not supported\"\u001b[0m \u001b[1;33m%\u001b[0m \u001b[0my_type\u001b[0m\u001b[1;33m)\u001b[0m\u001b[1;33m\u001b[0m\u001b[1;33m\u001b[0m\u001b[0m\n",
      "\u001b[1;32m~\\anaconda3\\lib\\site-packages\\sklearn\\metrics\\_classification.py\u001b[0m in \u001b[0;36m_check_targets\u001b[1;34m(y_true, y_pred)\u001b[0m\n\u001b[0;32m     88\u001b[0m \u001b[1;33m\u001b[0m\u001b[0m\n\u001b[0;32m     89\u001b[0m     \u001b[1;32mif\u001b[0m \u001b[0mlen\u001b[0m\u001b[1;33m(\u001b[0m\u001b[0my_type\u001b[0m\u001b[1;33m)\u001b[0m \u001b[1;33m>\u001b[0m \u001b[1;36m1\u001b[0m\u001b[1;33m:\u001b[0m\u001b[1;33m\u001b[0m\u001b[1;33m\u001b[0m\u001b[0m\n\u001b[1;32m---> 90\u001b[1;33m         raise ValueError(\"Classification metrics can't handle a mix of {0} \"\n\u001b[0m\u001b[0;32m     91\u001b[0m                          \"and {1} targets\".format(type_true, type_pred))\n\u001b[0;32m     92\u001b[0m \u001b[1;33m\u001b[0m\u001b[0m\n",
      "\u001b[1;31mValueError\u001b[0m: Classification metrics can't handle a mix of multilabel-indicator and multiclass targets"
     ]
    }
   ],
   "source": [
    "y_pred_train_c1 = model_c1.predict(X_train_trans) # This provides the probability for each class\n",
    "y_pred_test_c1  = model_c1.predict(X_test_trans) # This provides the probability for each class\n",
    "\n",
    "# We need to extract for each row which is the class which the highest probability\n",
    "# which corresponds to the index of the sublist\n",
    "y_pred_train_c1 = np.argmax(y_pred_train_c1, axis=1).reshape(-1,1)\n",
    "y_pred_test_c1  = np.argmax(y_pred_test_c1, axis=1).reshape(-1,1)\n",
    "\n",
    "model_performance_class(y_train, y_pred_train_c1, y_test, y_pred_test_c2)\n",
    "\n",
    "# Acceptable Kappa is above 0.60"
   ]
  },
  {
   "cell_type": "code",
   "execution_count": null,
   "metadata": {
    "hidden": true
   },
   "outputs": [],
   "source": []
  },
  {
   "cell_type": "markdown",
   "metadata": {
    "heading_collapsed": true
   },
   "source": [
    "# Second Option"
   ]
  },
  {
   "cell_type": "code",
   "execution_count": 5,
   "metadata": {
    "ExecuteTime": {
     "end_time": "2021-07-28T07:20:20.941355Z",
     "start_time": "2021-07-28T07:20:20.930035Z"
    },
    "hidden": true
   },
   "outputs": [],
   "source": [
    "class_names = [\"animals\", \"exterior-urban\", \"human\", \"interior-domestic\", \"natural soundscapes & water\"]"
   ]
  },
  {
   "cell_type": "code",
   "execution_count": 26,
   "metadata": {
    "ExecuteTime": {
     "end_time": "2021-07-28T12:57:44.912700Z",
     "start_time": "2021-07-28T12:57:44.504466Z"
    },
    "hidden": true
   },
   "outputs": [
    {
     "name": "stdout",
     "output_type": "stream",
     "text": [
      "Found 4000 files belonging to 7 classes.\n",
      "Using 3200 files for training.\n",
      "Found 4000 files belonging to 7 classes.\n",
      "Using 800 files for validation.\n"
     ]
    }
   ],
   "source": [
    "# Generate a dataset\n",
    "image_size = (180, 180)\n",
    "batch_size = 40\n",
    "\n",
    "X_train = tf.keras.preprocessing.image_dataset_from_directory(\n",
    "    r\"C:\\Users\\trito.DESKTOP-V9IEUOR\\Desktop\\IronHack Data Analyst\\Projects\\Final-Project-DA\\Data\\Images class\",\n",
    "    validation_split=0.2,\n",
    "    subset=\"training\",\n",
    "    seed=1337,\n",
    "    image_size=image_size,\n",
    "    batch_size=batch_size)\n",
    "\n",
    "X_test = tf.keras.preprocessing.image_dataset_from_directory(\n",
    "    r\"C:\\Users\\trito.DESKTOP-V9IEUOR\\Desktop\\IronHack Data Analyst\\Projects\\Final-Project-DA\\Data\\Images class\",\n",
    "    validation_split=0.2,\n",
    "    subset=\"validation\",\n",
    "    seed=1337,\n",
    "    image_size=image_size,\n",
    "    batch_size=batch_size)"
   ]
  },
  {
   "cell_type": "markdown",
   "metadata": {
    "ExecuteTime": {
     "end_time": "2021-07-28T10:52:40.014230Z",
     "start_time": "2021-07-28T10:52:39.999229Z"
    },
    "heading_collapsed": true
   },
   "source": [
    "# Good one"
   ]
  },
  {
   "cell_type": "code",
   "execution_count": 154,
   "metadata": {
    "ExecuteTime": {
     "end_time": "2021-07-28T14:49:24.399287Z",
     "start_time": "2021-07-28T14:49:24.289805Z"
    },
    "hidden": true
   },
   "outputs": [
    {
     "name": "stdout",
     "output_type": "stream",
     "text": [
      "Model: \"sequential_23\"\n",
      "_________________________________________________________________\n",
      "Layer (type)                 Output Shape              Param #   \n",
      "=================================================================\n",
      "conv2d_34 (Conv2D)           (None, 180, 180, 32)      896       \n",
      "_________________________________________________________________\n",
      "max_pooling2d_34 (MaxPooling (None, 90, 90, 32)        0         \n",
      "_________________________________________________________________\n",
      "module_wrapper_33 (ModuleWra (None, 90, 90, 32)        128       \n",
      "_________________________________________________________________\n",
      "conv2d_35 (Conv2D)           (None, 90, 90, 64)        18496     \n",
      "_________________________________________________________________\n",
      "max_pooling2d_35 (MaxPooling (None, 30, 30, 64)        0         \n",
      "_________________________________________________________________\n",
      "module_wrapper_34 (ModuleWra (None, 30, 30, 64)        256       \n",
      "_________________________________________________________________\n",
      "conv2d_36 (Conv2D)           (None, 30, 30, 64)        36928     \n",
      "_________________________________________________________________\n",
      "max_pooling2d_36 (MaxPooling (None, 10, 10, 64)        0         \n",
      "_________________________________________________________________\n",
      "module_wrapper_35 (ModuleWra (None, 10, 10, 64)        256       \n",
      "_________________________________________________________________\n",
      "flatten_7 (Flatten)          (None, 6400)              0         \n",
      "_________________________________________________________________\n",
      "dense_41 (Dense)             (None, 256)               1638656   \n",
      "_________________________________________________________________\n",
      "dropout_15 (Dropout)         (None, 256)               0         \n",
      "_________________________________________________________________\n",
      "dense_42 (Dense)             (None, 16)                4112      \n",
      "_________________________________________________________________\n",
      "dropout_16 (Dropout)         (None, 16)                0         \n",
      "_________________________________________________________________\n",
      "dense_43 (Dense)             (None, 5)                 85        \n",
      "=================================================================\n",
      "Total params: 1,699,813\n",
      "Trainable params: 1,699,493\n",
      "Non-trainable params: 320\n",
      "_________________________________________________________________\n"
     ]
    }
   ],
   "source": [
    "from tensorflow.keras.models import Sequential\n",
    "from tensorflow.keras.layers import Dense, Conv2D, MaxPool2D, Flatten, Dropout\n",
    "from keras.layers.normalization import BatchNormalization\n",
    "\n",
    "from tensorflow.keras.callbacks import EarlyStopping # This callback allows you to stop the training if the validation error increases\n",
    "from tensorflow.keras.callbacks import ModelCheckpoint # This callback allows you to save the model.\n",
    "\n",
    "early_stopping = EarlyStopping(patience=5) \n",
    "\n",
    "checkpoint_path = r'C:\\Users\\trito.DESKTOP-V9IEUOR\\Desktop\\IronHack Data Analyst\\Projects\\Final-Project-DA\\Code\\Saved models\\cls-nn1.hdf5'\n",
    "checkpoint = ModelCheckpoint(\n",
    "    filepath=checkpoint_path,\n",
    "    save_freq='epoch',\n",
    "    save_weights_only=False,\n",
    "    verbose=1)\n",
    "\n",
    "# Model\n",
    "\n",
    "model = Sequential()\n",
    "\n",
    "model.add( Conv2D( input_shape=(180,180,3),\n",
    "                 filters = 32, # Number filters\n",
    "                 kernel_size = (3,3), # Filter size\n",
    "                 padding = \"same\",\n",
    "                 activation = \"relu\" ) )\n",
    "\n",
    "model.add( MaxPool2D( pool_size = (2,2) ) ) \n",
    "\n",
    "model.add( BatchNormalization() ) # Add StandardScaler to the previous outputs\n",
    "\n",
    "# Add another conv layer\n",
    "model.add( Conv2D(\n",
    "                 filters = 64, # Number filters\n",
    "                 kernel_size = (3,3), # Filter size\n",
    "                 padding = \"same\",\n",
    "                 activation = \"relu\" ) )\n",
    "\n",
    "model.add( MaxPool2D( pool_size = (3,3) ) ) \n",
    "\n",
    "model.add( BatchNormalization() )\n",
    "\n",
    "\n",
    "#Add another conv layer\n",
    "model.add( Conv2D(\n",
    "                 filters = 64, # Number filters\n",
    "                 kernel_size = (3,3), # Filter size\n",
    "                 padding = \"same\",\n",
    "                 activation = \"relu\" ) )\n",
    "\n",
    "model.add( MaxPool2D( pool_size = (3,3) ) ) \n",
    "\n",
    "model.add( BatchNormalization() )\n",
    "\n",
    "# Add flatten layer\n",
    "model.add( Flatten() )\n",
    "\n",
    "# Normal neural network\n",
    "\n",
    "model.add( Dense(256, activation = \"relu\") )\n",
    "model.add( Dropout(0.5) )\n",
    "\n",
    "model.add( Dense(16, activation = \"relu\") )\n",
    "model.add( Dropout(0.5) )\n",
    "\n",
    "# Last layer \n",
    "model.add( Dense(5, activation = \"softmax\"))\n",
    "\n",
    "model.summary()\n",
    "\n",
    "model.compile(optimizer='rmsprop', # Optimization method\n",
    "              loss='categorical_crossentropy', # Error metric to minimize\n",
    "              metrics=['accuracy'])"
   ]
  },
  {
   "cell_type": "code",
   "execution_count": 155,
   "metadata": {
    "ExecuteTime": {
     "end_time": "2021-07-28T14:49:25.634206Z",
     "start_time": "2021-07-28T14:49:25.616214Z"
    },
    "hidden": true
   },
   "outputs": [],
   "source": [
    "y_train_dummy = keras.utils.to_categorical(y_train, num_classes = 5)"
   ]
  },
  {
   "cell_type": "code",
   "execution_count": 156,
   "metadata": {
    "ExecuteTime": {
     "end_time": "2021-07-28T14:49:29.182667Z",
     "start_time": "2021-07-28T14:49:29.111751Z"
    },
    "hidden": true
   },
   "outputs": [
    {
     "name": "stdout",
     "output_type": "stream",
     "text": [
      "Epoch 1/120\n"
     ]
    },
    {
     "ename": "ValueError",
     "evalue": "in user code:\n\n    C:\\Users\\trito.DESKTOP-V9IEUOR\\anaconda3\\lib\\site-packages\\tensorflow\\python\\keras\\engine\\training.py:855 train_function  *\n        return step_function(self, iterator)\n    C:\\Users\\trito.DESKTOP-V9IEUOR\\anaconda3\\lib\\site-packages\\tensorflow\\python\\keras\\engine\\training.py:845 step_function  **\n        outputs = model.distribute_strategy.run(run_step, args=(data,))\n    C:\\Users\\trito.DESKTOP-V9IEUOR\\anaconda3\\lib\\site-packages\\tensorflow\\python\\distribute\\distribute_lib.py:1285 run\n        return self._extended.call_for_each_replica(fn, args=args, kwargs=kwargs)\n    C:\\Users\\trito.DESKTOP-V9IEUOR\\anaconda3\\lib\\site-packages\\tensorflow\\python\\distribute\\distribute_lib.py:2833 call_for_each_replica\n        return self._call_for_each_replica(fn, args, kwargs)\n    C:\\Users\\trito.DESKTOP-V9IEUOR\\anaconda3\\lib\\site-packages\\tensorflow\\python\\distribute\\distribute_lib.py:3608 _call_for_each_replica\n        return fn(*args, **kwargs)\n    C:\\Users\\trito.DESKTOP-V9IEUOR\\anaconda3\\lib\\site-packages\\tensorflow\\python\\keras\\engine\\training.py:838 run_step  **\n        outputs = model.train_step(data)\n    C:\\Users\\trito.DESKTOP-V9IEUOR\\anaconda3\\lib\\site-packages\\tensorflow\\python\\keras\\engine\\training.py:795 train_step\n        y_pred = self(x, training=True)\n    C:\\Users\\trito.DESKTOP-V9IEUOR\\anaconda3\\lib\\site-packages\\tensorflow\\python\\keras\\engine\\base_layer.py:1013 __call__\n        input_spec.assert_input_compatibility(self.input_spec, inputs, self.name)\n    C:\\Users\\trito.DESKTOP-V9IEUOR\\anaconda3\\lib\\site-packages\\tensorflow\\python\\keras\\engine\\input_spec.py:230 assert_input_compatibility\n        raise ValueError('Input ' + str(input_index) + ' of layer ' +\n\n    ValueError: Input 0 of layer sequential_23 is incompatible with the layer: : expected min_ndim=4, found ndim=2. Full shape received: (40, 48)\n",
     "output_type": "error",
     "traceback": [
      "\u001b[1;31m---------------------------------------------------------------------------\u001b[0m",
      "\u001b[1;31mValueError\u001b[0m                                Traceback (most recent call last)",
      "\u001b[1;32m<ipython-input-156-4e45e7a0be33>\u001b[0m in \u001b[0;36m<module>\u001b[1;34m\u001b[0m\n\u001b[1;32m----> 1\u001b[1;33m history = model.fit( X_train,\n\u001b[0m\u001b[0;32m      2\u001b[0m           \u001b[0my_train_dummy\u001b[0m\u001b[1;33m,\u001b[0m\u001b[1;33m\u001b[0m\u001b[1;33m\u001b[0m\u001b[0m\n\u001b[0;32m      3\u001b[0m           \u001b[0mepochs\u001b[0m\u001b[1;33m=\u001b[0m \u001b[1;36m120\u001b[0m\u001b[1;33m,\u001b[0m\u001b[1;33m\u001b[0m\u001b[1;33m\u001b[0m\u001b[0m\n\u001b[0;32m      4\u001b[0m           \u001b[0mvalidation_split\u001b[0m\u001b[1;33m=\u001b[0m\u001b[1;36m0.20\u001b[0m\u001b[1;33m,\u001b[0m\u001b[1;33m\u001b[0m\u001b[1;33m\u001b[0m\u001b[0m\n\u001b[0;32m      5\u001b[0m           \u001b[0mbatch_size\u001b[0m \u001b[1;33m=\u001b[0m \u001b[1;36m40\u001b[0m\u001b[1;33m,\u001b[0m\u001b[1;33m\u001b[0m\u001b[1;33m\u001b[0m\u001b[0m\n",
      "\u001b[1;32m~\\anaconda3\\lib\\site-packages\\tensorflow\\python\\keras\\engine\\training.py\u001b[0m in \u001b[0;36mfit\u001b[1;34m(self, x, y, batch_size, epochs, verbose, callbacks, validation_split, validation_data, shuffle, class_weight, sample_weight, initial_epoch, steps_per_epoch, validation_steps, validation_batch_size, validation_freq, max_queue_size, workers, use_multiprocessing)\u001b[0m\n\u001b[0;32m   1181\u001b[0m                 _r=1):\n\u001b[0;32m   1182\u001b[0m               \u001b[0mcallbacks\u001b[0m\u001b[1;33m.\u001b[0m\u001b[0mon_train_batch_begin\u001b[0m\u001b[1;33m(\u001b[0m\u001b[0mstep\u001b[0m\u001b[1;33m)\u001b[0m\u001b[1;33m\u001b[0m\u001b[1;33m\u001b[0m\u001b[0m\n\u001b[1;32m-> 1183\u001b[1;33m               \u001b[0mtmp_logs\u001b[0m \u001b[1;33m=\u001b[0m \u001b[0mself\u001b[0m\u001b[1;33m.\u001b[0m\u001b[0mtrain_function\u001b[0m\u001b[1;33m(\u001b[0m\u001b[0miterator\u001b[0m\u001b[1;33m)\u001b[0m\u001b[1;33m\u001b[0m\u001b[1;33m\u001b[0m\u001b[0m\n\u001b[0m\u001b[0;32m   1184\u001b[0m               \u001b[1;32mif\u001b[0m \u001b[0mdata_handler\u001b[0m\u001b[1;33m.\u001b[0m\u001b[0mshould_sync\u001b[0m\u001b[1;33m:\u001b[0m\u001b[1;33m\u001b[0m\u001b[1;33m\u001b[0m\u001b[0m\n\u001b[0;32m   1185\u001b[0m                 \u001b[0mcontext\u001b[0m\u001b[1;33m.\u001b[0m\u001b[0masync_wait\u001b[0m\u001b[1;33m(\u001b[0m\u001b[1;33m)\u001b[0m\u001b[1;33m\u001b[0m\u001b[1;33m\u001b[0m\u001b[0m\n",
      "\u001b[1;32m~\\anaconda3\\lib\\site-packages\\tensorflow\\python\\eager\\def_function.py\u001b[0m in \u001b[0;36m__call__\u001b[1;34m(self, *args, **kwds)\u001b[0m\n\u001b[0;32m    887\u001b[0m \u001b[1;33m\u001b[0m\u001b[0m\n\u001b[0;32m    888\u001b[0m       \u001b[1;32mwith\u001b[0m \u001b[0mOptionalXlaContext\u001b[0m\u001b[1;33m(\u001b[0m\u001b[0mself\u001b[0m\u001b[1;33m.\u001b[0m\u001b[0m_jit_compile\u001b[0m\u001b[1;33m)\u001b[0m\u001b[1;33m:\u001b[0m\u001b[1;33m\u001b[0m\u001b[1;33m\u001b[0m\u001b[0m\n\u001b[1;32m--> 889\u001b[1;33m         \u001b[0mresult\u001b[0m \u001b[1;33m=\u001b[0m \u001b[0mself\u001b[0m\u001b[1;33m.\u001b[0m\u001b[0m_call\u001b[0m\u001b[1;33m(\u001b[0m\u001b[1;33m*\u001b[0m\u001b[0margs\u001b[0m\u001b[1;33m,\u001b[0m \u001b[1;33m**\u001b[0m\u001b[0mkwds\u001b[0m\u001b[1;33m)\u001b[0m\u001b[1;33m\u001b[0m\u001b[1;33m\u001b[0m\u001b[0m\n\u001b[0m\u001b[0;32m    890\u001b[0m \u001b[1;33m\u001b[0m\u001b[0m\n\u001b[0;32m    891\u001b[0m       \u001b[0mnew_tracing_count\u001b[0m \u001b[1;33m=\u001b[0m \u001b[0mself\u001b[0m\u001b[1;33m.\u001b[0m\u001b[0mexperimental_get_tracing_count\u001b[0m\u001b[1;33m(\u001b[0m\u001b[1;33m)\u001b[0m\u001b[1;33m\u001b[0m\u001b[1;33m\u001b[0m\u001b[0m\n",
      "\u001b[1;32m~\\anaconda3\\lib\\site-packages\\tensorflow\\python\\eager\\def_function.py\u001b[0m in \u001b[0;36m_call\u001b[1;34m(self, *args, **kwds)\u001b[0m\n\u001b[0;32m    931\u001b[0m       \u001b[1;31m# This is the first call of __call__, so we have to initialize.\u001b[0m\u001b[1;33m\u001b[0m\u001b[1;33m\u001b[0m\u001b[1;33m\u001b[0m\u001b[0m\n\u001b[0;32m    932\u001b[0m       \u001b[0minitializers\u001b[0m \u001b[1;33m=\u001b[0m \u001b[1;33m[\u001b[0m\u001b[1;33m]\u001b[0m\u001b[1;33m\u001b[0m\u001b[1;33m\u001b[0m\u001b[0m\n\u001b[1;32m--> 933\u001b[1;33m       \u001b[0mself\u001b[0m\u001b[1;33m.\u001b[0m\u001b[0m_initialize\u001b[0m\u001b[1;33m(\u001b[0m\u001b[0margs\u001b[0m\u001b[1;33m,\u001b[0m \u001b[0mkwds\u001b[0m\u001b[1;33m,\u001b[0m \u001b[0madd_initializers_to\u001b[0m\u001b[1;33m=\u001b[0m\u001b[0minitializers\u001b[0m\u001b[1;33m)\u001b[0m\u001b[1;33m\u001b[0m\u001b[1;33m\u001b[0m\u001b[0m\n\u001b[0m\u001b[0;32m    934\u001b[0m     \u001b[1;32mfinally\u001b[0m\u001b[1;33m:\u001b[0m\u001b[1;33m\u001b[0m\u001b[1;33m\u001b[0m\u001b[0m\n\u001b[0;32m    935\u001b[0m       \u001b[1;31m# At this point we know that the initialization is complete (or less\u001b[0m\u001b[1;33m\u001b[0m\u001b[1;33m\u001b[0m\u001b[1;33m\u001b[0m\u001b[0m\n",
      "\u001b[1;32m~\\anaconda3\\lib\\site-packages\\tensorflow\\python\\eager\\def_function.py\u001b[0m in \u001b[0;36m_initialize\u001b[1;34m(self, args, kwds, add_initializers_to)\u001b[0m\n\u001b[0;32m    761\u001b[0m     \u001b[0mself\u001b[0m\u001b[1;33m.\u001b[0m\u001b[0m_graph_deleter\u001b[0m \u001b[1;33m=\u001b[0m \u001b[0mFunctionDeleter\u001b[0m\u001b[1;33m(\u001b[0m\u001b[0mself\u001b[0m\u001b[1;33m.\u001b[0m\u001b[0m_lifted_initializer_graph\u001b[0m\u001b[1;33m)\u001b[0m\u001b[1;33m\u001b[0m\u001b[1;33m\u001b[0m\u001b[0m\n\u001b[0;32m    762\u001b[0m     self._concrete_stateful_fn = (\n\u001b[1;32m--> 763\u001b[1;33m         self._stateful_fn._get_concrete_function_internal_garbage_collected(  # pylint: disable=protected-access\n\u001b[0m\u001b[0;32m    764\u001b[0m             *args, **kwds))\n\u001b[0;32m    765\u001b[0m \u001b[1;33m\u001b[0m\u001b[0m\n",
      "\u001b[1;32m~\\anaconda3\\lib\\site-packages\\tensorflow\\python\\eager\\function.py\u001b[0m in \u001b[0;36m_get_concrete_function_internal_garbage_collected\u001b[1;34m(self, *args, **kwargs)\u001b[0m\n\u001b[0;32m   3048\u001b[0m       \u001b[0margs\u001b[0m\u001b[1;33m,\u001b[0m \u001b[0mkwargs\u001b[0m \u001b[1;33m=\u001b[0m \u001b[1;32mNone\u001b[0m\u001b[1;33m,\u001b[0m \u001b[1;32mNone\u001b[0m\u001b[1;33m\u001b[0m\u001b[1;33m\u001b[0m\u001b[0m\n\u001b[0;32m   3049\u001b[0m     \u001b[1;32mwith\u001b[0m \u001b[0mself\u001b[0m\u001b[1;33m.\u001b[0m\u001b[0m_lock\u001b[0m\u001b[1;33m:\u001b[0m\u001b[1;33m\u001b[0m\u001b[1;33m\u001b[0m\u001b[0m\n\u001b[1;32m-> 3050\u001b[1;33m       \u001b[0mgraph_function\u001b[0m\u001b[1;33m,\u001b[0m \u001b[0m_\u001b[0m \u001b[1;33m=\u001b[0m \u001b[0mself\u001b[0m\u001b[1;33m.\u001b[0m\u001b[0m_maybe_define_function\u001b[0m\u001b[1;33m(\u001b[0m\u001b[0margs\u001b[0m\u001b[1;33m,\u001b[0m \u001b[0mkwargs\u001b[0m\u001b[1;33m)\u001b[0m\u001b[1;33m\u001b[0m\u001b[1;33m\u001b[0m\u001b[0m\n\u001b[0m\u001b[0;32m   3051\u001b[0m     \u001b[1;32mreturn\u001b[0m \u001b[0mgraph_function\u001b[0m\u001b[1;33m\u001b[0m\u001b[1;33m\u001b[0m\u001b[0m\n\u001b[0;32m   3052\u001b[0m \u001b[1;33m\u001b[0m\u001b[0m\n",
      "\u001b[1;32m~\\anaconda3\\lib\\site-packages\\tensorflow\\python\\eager\\function.py\u001b[0m in \u001b[0;36m_maybe_define_function\u001b[1;34m(self, args, kwargs)\u001b[0m\n\u001b[0;32m   3442\u001b[0m \u001b[1;33m\u001b[0m\u001b[0m\n\u001b[0;32m   3443\u001b[0m           \u001b[0mself\u001b[0m\u001b[1;33m.\u001b[0m\u001b[0m_function_cache\u001b[0m\u001b[1;33m.\u001b[0m\u001b[0mmissed\u001b[0m\u001b[1;33m.\u001b[0m\u001b[0madd\u001b[0m\u001b[1;33m(\u001b[0m\u001b[0mcall_context_key\u001b[0m\u001b[1;33m)\u001b[0m\u001b[1;33m\u001b[0m\u001b[1;33m\u001b[0m\u001b[0m\n\u001b[1;32m-> 3444\u001b[1;33m           \u001b[0mgraph_function\u001b[0m \u001b[1;33m=\u001b[0m \u001b[0mself\u001b[0m\u001b[1;33m.\u001b[0m\u001b[0m_create_graph_function\u001b[0m\u001b[1;33m(\u001b[0m\u001b[0margs\u001b[0m\u001b[1;33m,\u001b[0m \u001b[0mkwargs\u001b[0m\u001b[1;33m)\u001b[0m\u001b[1;33m\u001b[0m\u001b[1;33m\u001b[0m\u001b[0m\n\u001b[0m\u001b[0;32m   3445\u001b[0m           \u001b[0mself\u001b[0m\u001b[1;33m.\u001b[0m\u001b[0m_function_cache\u001b[0m\u001b[1;33m.\u001b[0m\u001b[0mprimary\u001b[0m\u001b[1;33m[\u001b[0m\u001b[0mcache_key\u001b[0m\u001b[1;33m]\u001b[0m \u001b[1;33m=\u001b[0m \u001b[0mgraph_function\u001b[0m\u001b[1;33m\u001b[0m\u001b[1;33m\u001b[0m\u001b[0m\n\u001b[0;32m   3446\u001b[0m \u001b[1;33m\u001b[0m\u001b[0m\n",
      "\u001b[1;32m~\\anaconda3\\lib\\site-packages\\tensorflow\\python\\eager\\function.py\u001b[0m in \u001b[0;36m_create_graph_function\u001b[1;34m(self, args, kwargs, override_flat_arg_shapes)\u001b[0m\n\u001b[0;32m   3277\u001b[0m     \u001b[0marg_names\u001b[0m \u001b[1;33m=\u001b[0m \u001b[0mbase_arg_names\u001b[0m \u001b[1;33m+\u001b[0m \u001b[0mmissing_arg_names\u001b[0m\u001b[1;33m\u001b[0m\u001b[1;33m\u001b[0m\u001b[0m\n\u001b[0;32m   3278\u001b[0m     graph_function = ConcreteFunction(\n\u001b[1;32m-> 3279\u001b[1;33m         func_graph_module.func_graph_from_py_func(\n\u001b[0m\u001b[0;32m   3280\u001b[0m             \u001b[0mself\u001b[0m\u001b[1;33m.\u001b[0m\u001b[0m_name\u001b[0m\u001b[1;33m,\u001b[0m\u001b[1;33m\u001b[0m\u001b[1;33m\u001b[0m\u001b[0m\n\u001b[0;32m   3281\u001b[0m             \u001b[0mself\u001b[0m\u001b[1;33m.\u001b[0m\u001b[0m_python_function\u001b[0m\u001b[1;33m,\u001b[0m\u001b[1;33m\u001b[0m\u001b[1;33m\u001b[0m\u001b[0m\n",
      "\u001b[1;32m~\\anaconda3\\lib\\site-packages\\tensorflow\\python\\framework\\func_graph.py\u001b[0m in \u001b[0;36mfunc_graph_from_py_func\u001b[1;34m(name, python_func, args, kwargs, signature, func_graph, autograph, autograph_options, add_control_dependencies, arg_names, op_return_value, collections, capture_by_value, override_flat_arg_shapes)\u001b[0m\n\u001b[0;32m    997\u001b[0m         \u001b[0m_\u001b[0m\u001b[1;33m,\u001b[0m \u001b[0moriginal_func\u001b[0m \u001b[1;33m=\u001b[0m \u001b[0mtf_decorator\u001b[0m\u001b[1;33m.\u001b[0m\u001b[0munwrap\u001b[0m\u001b[1;33m(\u001b[0m\u001b[0mpython_func\u001b[0m\u001b[1;33m)\u001b[0m\u001b[1;33m\u001b[0m\u001b[1;33m\u001b[0m\u001b[0m\n\u001b[0;32m    998\u001b[0m \u001b[1;33m\u001b[0m\u001b[0m\n\u001b[1;32m--> 999\u001b[1;33m       \u001b[0mfunc_outputs\u001b[0m \u001b[1;33m=\u001b[0m \u001b[0mpython_func\u001b[0m\u001b[1;33m(\u001b[0m\u001b[1;33m*\u001b[0m\u001b[0mfunc_args\u001b[0m\u001b[1;33m,\u001b[0m \u001b[1;33m**\u001b[0m\u001b[0mfunc_kwargs\u001b[0m\u001b[1;33m)\u001b[0m\u001b[1;33m\u001b[0m\u001b[1;33m\u001b[0m\u001b[0m\n\u001b[0m\u001b[0;32m   1000\u001b[0m \u001b[1;33m\u001b[0m\u001b[0m\n\u001b[0;32m   1001\u001b[0m       \u001b[1;31m# invariant: `func_outputs` contains only Tensors, CompositeTensors,\u001b[0m\u001b[1;33m\u001b[0m\u001b[1;33m\u001b[0m\u001b[1;33m\u001b[0m\u001b[0m\n",
      "\u001b[1;32m~\\anaconda3\\lib\\site-packages\\tensorflow\\python\\eager\\def_function.py\u001b[0m in \u001b[0;36mwrapped_fn\u001b[1;34m(*args, **kwds)\u001b[0m\n\u001b[0;32m    670\u001b[0m         \u001b[1;31m# the function a weak reference to itself to avoid a reference cycle.\u001b[0m\u001b[1;33m\u001b[0m\u001b[1;33m\u001b[0m\u001b[1;33m\u001b[0m\u001b[0m\n\u001b[0;32m    671\u001b[0m         \u001b[1;32mwith\u001b[0m \u001b[0mOptionalXlaContext\u001b[0m\u001b[1;33m(\u001b[0m\u001b[0mcompile_with_xla\u001b[0m\u001b[1;33m)\u001b[0m\u001b[1;33m:\u001b[0m\u001b[1;33m\u001b[0m\u001b[1;33m\u001b[0m\u001b[0m\n\u001b[1;32m--> 672\u001b[1;33m           \u001b[0mout\u001b[0m \u001b[1;33m=\u001b[0m \u001b[0mweak_wrapped_fn\u001b[0m\u001b[1;33m(\u001b[0m\u001b[1;33m)\u001b[0m\u001b[1;33m.\u001b[0m\u001b[0m__wrapped__\u001b[0m\u001b[1;33m(\u001b[0m\u001b[1;33m*\u001b[0m\u001b[0margs\u001b[0m\u001b[1;33m,\u001b[0m \u001b[1;33m**\u001b[0m\u001b[0mkwds\u001b[0m\u001b[1;33m)\u001b[0m\u001b[1;33m\u001b[0m\u001b[1;33m\u001b[0m\u001b[0m\n\u001b[0m\u001b[0;32m    673\u001b[0m         \u001b[1;32mreturn\u001b[0m \u001b[0mout\u001b[0m\u001b[1;33m\u001b[0m\u001b[1;33m\u001b[0m\u001b[0m\n\u001b[0;32m    674\u001b[0m \u001b[1;33m\u001b[0m\u001b[0m\n",
      "\u001b[1;32m~\\anaconda3\\lib\\site-packages\\tensorflow\\python\\framework\\func_graph.py\u001b[0m in \u001b[0;36mwrapper\u001b[1;34m(*args, **kwargs)\u001b[0m\n\u001b[0;32m    984\u001b[0m           \u001b[1;32mexcept\u001b[0m \u001b[0mException\u001b[0m \u001b[1;32mas\u001b[0m \u001b[0me\u001b[0m\u001b[1;33m:\u001b[0m  \u001b[1;31m# pylint:disable=broad-except\u001b[0m\u001b[1;33m\u001b[0m\u001b[1;33m\u001b[0m\u001b[0m\n\u001b[0;32m    985\u001b[0m             \u001b[1;32mif\u001b[0m \u001b[0mhasattr\u001b[0m\u001b[1;33m(\u001b[0m\u001b[0me\u001b[0m\u001b[1;33m,\u001b[0m \u001b[1;34m\"ag_error_metadata\"\u001b[0m\u001b[1;33m)\u001b[0m\u001b[1;33m:\u001b[0m\u001b[1;33m\u001b[0m\u001b[1;33m\u001b[0m\u001b[0m\n\u001b[1;32m--> 986\u001b[1;33m               \u001b[1;32mraise\u001b[0m \u001b[0me\u001b[0m\u001b[1;33m.\u001b[0m\u001b[0mag_error_metadata\u001b[0m\u001b[1;33m.\u001b[0m\u001b[0mto_exception\u001b[0m\u001b[1;33m(\u001b[0m\u001b[0me\u001b[0m\u001b[1;33m)\u001b[0m\u001b[1;33m\u001b[0m\u001b[1;33m\u001b[0m\u001b[0m\n\u001b[0m\u001b[0;32m    987\u001b[0m             \u001b[1;32melse\u001b[0m\u001b[1;33m:\u001b[0m\u001b[1;33m\u001b[0m\u001b[1;33m\u001b[0m\u001b[0m\n\u001b[0;32m    988\u001b[0m               \u001b[1;32mraise\u001b[0m\u001b[1;33m\u001b[0m\u001b[1;33m\u001b[0m\u001b[0m\n",
      "\u001b[1;31mValueError\u001b[0m: in user code:\n\n    C:\\Users\\trito.DESKTOP-V9IEUOR\\anaconda3\\lib\\site-packages\\tensorflow\\python\\keras\\engine\\training.py:855 train_function  *\n        return step_function(self, iterator)\n    C:\\Users\\trito.DESKTOP-V9IEUOR\\anaconda3\\lib\\site-packages\\tensorflow\\python\\keras\\engine\\training.py:845 step_function  **\n        outputs = model.distribute_strategy.run(run_step, args=(data,))\n    C:\\Users\\trito.DESKTOP-V9IEUOR\\anaconda3\\lib\\site-packages\\tensorflow\\python\\distribute\\distribute_lib.py:1285 run\n        return self._extended.call_for_each_replica(fn, args=args, kwargs=kwargs)\n    C:\\Users\\trito.DESKTOP-V9IEUOR\\anaconda3\\lib\\site-packages\\tensorflow\\python\\distribute\\distribute_lib.py:2833 call_for_each_replica\n        return self._call_for_each_replica(fn, args, kwargs)\n    C:\\Users\\trito.DESKTOP-V9IEUOR\\anaconda3\\lib\\site-packages\\tensorflow\\python\\distribute\\distribute_lib.py:3608 _call_for_each_replica\n        return fn(*args, **kwargs)\n    C:\\Users\\trito.DESKTOP-V9IEUOR\\anaconda3\\lib\\site-packages\\tensorflow\\python\\keras\\engine\\training.py:838 run_step  **\n        outputs = model.train_step(data)\n    C:\\Users\\trito.DESKTOP-V9IEUOR\\anaconda3\\lib\\site-packages\\tensorflow\\python\\keras\\engine\\training.py:795 train_step\n        y_pred = self(x, training=True)\n    C:\\Users\\trito.DESKTOP-V9IEUOR\\anaconda3\\lib\\site-packages\\tensorflow\\python\\keras\\engine\\base_layer.py:1013 __call__\n        input_spec.assert_input_compatibility(self.input_spec, inputs, self.name)\n    C:\\Users\\trito.DESKTOP-V9IEUOR\\anaconda3\\lib\\site-packages\\tensorflow\\python\\keras\\engine\\input_spec.py:230 assert_input_compatibility\n        raise ValueError('Input ' + str(input_index) + ' of layer ' +\n\n    ValueError: Input 0 of layer sequential_23 is incompatible with the layer: : expected min_ndim=4, found ndim=2. Full shape received: (40, 48)\n"
     ]
    }
   ],
   "source": [
    "history = model.fit( X_train,\n",
    "          y_train_dummy,\n",
    "          epochs= 120,\n",
    "          validation_split=0.20,\n",
    "          batch_size = 40,\n",
    "          verbose = 2,\n",
    "          callbacks = [early_stopping,checkpoint])"
   ]
  },
  {
   "cell_type": "code",
   "execution_count": null,
   "metadata": {
    "hidden": true
   },
   "outputs": [],
   "source": []
  },
  {
   "cell_type": "markdown",
   "metadata": {
    "ExecuteTime": {
     "end_time": "2021-07-28T13:39:46.229346Z",
     "start_time": "2021-07-28T13:39:46.213834Z"
    },
    "heading_collapsed": true
   },
   "source": [
    "# Option without images 50 classes"
   ]
  },
  {
   "cell_type": "code",
   "execution_count": 2,
   "metadata": {
    "ExecuteTime": {
     "end_time": "2021-07-28T20:26:12.594129Z",
     "start_time": "2021-07-28T20:26:12.501302Z"
    },
    "hidden": true
   },
   "outputs": [
    {
     "data": {
      "text/html": [
       "<div>\n",
       "<style scoped>\n",
       "    .dataframe tbody tr th:only-of-type {\n",
       "        vertical-align: middle;\n",
       "    }\n",
       "\n",
       "    .dataframe tbody tr th {\n",
       "        vertical-align: top;\n",
       "    }\n",
       "\n",
       "    .dataframe thead th {\n",
       "        text-align: right;\n",
       "    }\n",
       "</style>\n",
       "<table border=\"1\" class=\"dataframe\">\n",
       "  <thead>\n",
       "    <tr style=\"text-align: right;\">\n",
       "      <th></th>\n",
       "      <th>mfcc avg</th>\n",
       "      <th>mfcc mdn</th>\n",
       "      <th>mfcc std</th>\n",
       "      <th>mfcc sum</th>\n",
       "      <th>spc avg</th>\n",
       "      <th>spc mdn</th>\n",
       "      <th>spc std</th>\n",
       "      <th>spc sum</th>\n",
       "      <th>zcr avg</th>\n",
       "      <th>zcr mdn</th>\n",
       "      <th>...</th>\n",
       "      <th>poly sum</th>\n",
       "      <th>tc avg</th>\n",
       "      <th>tc mdn</th>\n",
       "      <th>tc std</th>\n",
       "      <th>tc sum</th>\n",
       "      <th>ac avg</th>\n",
       "      <th>ac mdn</th>\n",
       "      <th>ac std</th>\n",
       "      <th>ac sum</th>\n",
       "      <th>category</th>\n",
       "    </tr>\n",
       "  </thead>\n",
       "  <tbody>\n",
       "    <tr>\n",
       "      <th>0</th>\n",
       "      <td>-30.621037</td>\n",
       "      <td>0.000000</td>\n",
       "      <td>133.394226</td>\n",
       "      <td>-132282.875000</td>\n",
       "      <td>215.788225</td>\n",
       "      <td>0.000000</td>\n",
       "      <td>717.176604</td>\n",
       "      <td>46610.256598</td>\n",
       "      <td>0.012221</td>\n",
       "      <td>0.000000</td>\n",
       "      <td>...</td>\n",
       "      <td>48.567494</td>\n",
       "      <td>0.008107</td>\n",
       "      <td>0.000000</td>\n",
       "      <td>0.057337</td>\n",
       "      <td>10.506051</td>\n",
       "      <td>0.000862</td>\n",
       "      <td>-2.629388e-18</td>\n",
       "      <td>1.980245</td>\n",
       "      <td>95.034199</td>\n",
       "      <td>dog</td>\n",
       "    </tr>\n",
       "    <tr>\n",
       "      <th>1</th>\n",
       "      <td>-25.271778</td>\n",
       "      <td>-14.726506</td>\n",
       "      <td>43.930939</td>\n",
       "      <td>-109174.078125</td>\n",
       "      <td>3851.174848</td>\n",
       "      <td>3770.651034</td>\n",
       "      <td>471.515510</td>\n",
       "      <td>831853.767218</td>\n",
       "      <td>0.303727</td>\n",
       "      <td>0.303467</td>\n",
       "      <td>...</td>\n",
       "      <td>244.403774</td>\n",
       "      <td>-0.002649</td>\n",
       "      <td>-0.005608</td>\n",
       "      <td>0.079221</td>\n",
       "      <td>-3.433233</td>\n",
       "      <td>0.001883</td>\n",
       "      <td>-2.706105e-03</td>\n",
       "      <td>4.992041</td>\n",
       "      <td>207.627041</td>\n",
       "      <td>chirping_birds</td>\n",
       "    </tr>\n",
       "    <tr>\n",
       "      <th>2</th>\n",
       "      <td>6.678396</td>\n",
       "      <td>4.165037</td>\n",
       "      <td>16.359137</td>\n",
       "      <td>28850.671875</td>\n",
       "      <td>3417.287781</td>\n",
       "      <td>3386.712550</td>\n",
       "      <td>319.508973</td>\n",
       "      <td>738134.160685</td>\n",
       "      <td>0.385362</td>\n",
       "      <td>0.399414</td>\n",
       "      <td>...</td>\n",
       "      <td>1434.450520</td>\n",
       "      <td>0.004020</td>\n",
       "      <td>0.002992</td>\n",
       "      <td>0.041828</td>\n",
       "      <td>5.210136</td>\n",
       "      <td>0.050211</td>\n",
       "      <td>4.283366e-02</td>\n",
       "      <td>165.720405</td>\n",
       "      <td>5535.731441</td>\n",
       "      <td>vacuum_cleaner</td>\n",
       "    </tr>\n",
       "    <tr>\n",
       "      <th>3</th>\n",
       "      <td>6.997509</td>\n",
       "      <td>4.692041</td>\n",
       "      <td>15.818431</td>\n",
       "      <td>30229.240234</td>\n",
       "      <td>3495.792669</td>\n",
       "      <td>3475.238825</td>\n",
       "      <td>183.036219</td>\n",
       "      <td>755091.216591</td>\n",
       "      <td>0.386979</td>\n",
       "      <td>0.398926</td>\n",
       "      <td>...</td>\n",
       "      <td>1451.893795</td>\n",
       "      <td>-0.004242</td>\n",
       "      <td>-0.003369</td>\n",
       "      <td>0.031381</td>\n",
       "      <td>-5.497910</td>\n",
       "      <td>0.047756</td>\n",
       "      <td>-2.901005e-01</td>\n",
       "      <td>713.349622</td>\n",
       "      <td>5265.063297</td>\n",
       "      <td>vacuum_cleaner</td>\n",
       "    </tr>\n",
       "    <tr>\n",
       "      <th>4</th>\n",
       "      <td>-14.365158</td>\n",
       "      <td>-2.496537</td>\n",
       "      <td>98.979042</td>\n",
       "      <td>-62057.484375</td>\n",
       "      <td>1448.737715</td>\n",
       "      <td>1486.180399</td>\n",
       "      <td>390.742728</td>\n",
       "      <td>312927.346421</td>\n",
       "      <td>0.045754</td>\n",
       "      <td>0.043945</td>\n",
       "      <td>...</td>\n",
       "      <td>43.480455</td>\n",
       "      <td>0.003510</td>\n",
       "      <td>-0.000574</td>\n",
       "      <td>0.047373</td>\n",
       "      <td>4.549492</td>\n",
       "      <td>0.000060</td>\n",
       "      <td>-3.430340e-05</td>\n",
       "      <td>0.298194</td>\n",
       "      <td>6.667188</td>\n",
       "      <td>thunderstorm</td>\n",
       "    </tr>\n",
       "    <tr>\n",
       "      <th>...</th>\n",
       "      <td>...</td>\n",
       "      <td>...</td>\n",
       "      <td>...</td>\n",
       "      <td>...</td>\n",
       "      <td>...</td>\n",
       "      <td>...</td>\n",
       "      <td>...</td>\n",
       "      <td>...</td>\n",
       "      <td>...</td>\n",
       "      <td>...</td>\n",
       "      <td>...</td>\n",
       "      <td>...</td>\n",
       "      <td>...</td>\n",
       "      <td>...</td>\n",
       "      <td>...</td>\n",
       "      <td>...</td>\n",
       "      <td>...</td>\n",
       "      <td>...</td>\n",
       "      <td>...</td>\n",
       "      <td>...</td>\n",
       "      <td>...</td>\n",
       "    </tr>\n",
       "    <tr>\n",
       "      <th>1995</th>\n",
       "      <td>-6.576713</td>\n",
       "      <td>-0.237287</td>\n",
       "      <td>59.854641</td>\n",
       "      <td>-28411.398438</td>\n",
       "      <td>1747.478407</td>\n",
       "      <td>1671.889413</td>\n",
       "      <td>306.301225</td>\n",
       "      <td>377455.335829</td>\n",
       "      <td>0.103850</td>\n",
       "      <td>0.097412</td>\n",
       "      <td>...</td>\n",
       "      <td>433.033715</td>\n",
       "      <td>0.022402</td>\n",
       "      <td>0.004366</td>\n",
       "      <td>0.099978</td>\n",
       "      <td>29.033614</td>\n",
       "      <td>0.007470</td>\n",
       "      <td>5.828310e-05</td>\n",
       "      <td>23.564728</td>\n",
       "      <td>823.530559</td>\n",
       "      <td>hen</td>\n",
       "    </tr>\n",
       "    <tr>\n",
       "      <th>1996</th>\n",
       "      <td>-12.022120</td>\n",
       "      <td>-10.838694</td>\n",
       "      <td>15.031034</td>\n",
       "      <td>-51935.558594</td>\n",
       "      <td>4090.176813</td>\n",
       "      <td>4087.804534</td>\n",
       "      <td>86.412482</td>\n",
       "      <td>883478.191684</td>\n",
       "      <td>0.309326</td>\n",
       "      <td>0.314209</td>\n",
       "      <td>...</td>\n",
       "      <td>631.218991</td>\n",
       "      <td>-0.022439</td>\n",
       "      <td>-0.024682</td>\n",
       "      <td>0.060606</td>\n",
       "      <td>-29.080494</td>\n",
       "      <td>0.006472</td>\n",
       "      <td>1.537501e-02</td>\n",
       "      <td>79.680088</td>\n",
       "      <td>713.503296</td>\n",
       "      <td>vacuum_cleaner</td>\n",
       "    </tr>\n",
       "    <tr>\n",
       "      <th>1997</th>\n",
       "      <td>-6.922936</td>\n",
       "      <td>0.210413</td>\n",
       "      <td>76.220184</td>\n",
       "      <td>-29907.085938</td>\n",
       "      <td>1405.561102</td>\n",
       "      <td>1518.197320</td>\n",
       "      <td>952.325587</td>\n",
       "      <td>303601.198062</td>\n",
       "      <td>0.041597</td>\n",
       "      <td>0.031738</td>\n",
       "      <td>...</td>\n",
       "      <td>325.879781</td>\n",
       "      <td>0.003534</td>\n",
       "      <td>-0.001723</td>\n",
       "      <td>0.054725</td>\n",
       "      <td>4.580664</td>\n",
       "      <td>0.008843</td>\n",
       "      <td>-7.706453e-16</td>\n",
       "      <td>57.809372</td>\n",
       "      <td>974.955606</td>\n",
       "      <td>footsteps</td>\n",
       "    </tr>\n",
       "    <tr>\n",
       "      <th>1998</th>\n",
       "      <td>-2.007078</td>\n",
       "      <td>1.065828</td>\n",
       "      <td>43.239983</td>\n",
       "      <td>-8670.578125</td>\n",
       "      <td>2345.897297</td>\n",
       "      <td>2325.234869</td>\n",
       "      <td>324.291507</td>\n",
       "      <td>506713.816239</td>\n",
       "      <td>0.112822</td>\n",
       "      <td>0.115967</td>\n",
       "      <td>...</td>\n",
       "      <td>443.478158</td>\n",
       "      <td>0.002648</td>\n",
       "      <td>0.003629</td>\n",
       "      <td>0.044488</td>\n",
       "      <td>3.431848</td>\n",
       "      <td>0.002788</td>\n",
       "      <td>-1.577616e-02</td>\n",
       "      <td>4.704439</td>\n",
       "      <td>307.363161</td>\n",
       "      <td>sheep</td>\n",
       "    </tr>\n",
       "    <tr>\n",
       "      <th>1999</th>\n",
       "      <td>-24.182295</td>\n",
       "      <td>0.000000</td>\n",
       "      <td>113.470818</td>\n",
       "      <td>-104467.515625</td>\n",
       "      <td>2094.141640</td>\n",
       "      <td>2916.537518</td>\n",
       "      <td>1804.158324</td>\n",
       "      <td>452334.594198</td>\n",
       "      <td>0.122866</td>\n",
       "      <td>0.135254</td>\n",
       "      <td>...</td>\n",
       "      <td>134.312011</td>\n",
       "      <td>0.002515</td>\n",
       "      <td>0.002617</td>\n",
       "      <td>0.075578</td>\n",
       "      <td>3.259941</td>\n",
       "      <td>0.002130</td>\n",
       "      <td>6.481551e-16</td>\n",
       "      <td>3.861148</td>\n",
       "      <td>234.872327</td>\n",
       "      <td>dog</td>\n",
       "    </tr>\n",
       "  </tbody>\n",
       "</table>\n",
       "<p>2000 rows × 49 columns</p>\n",
       "</div>"
      ],
      "text/plain": [
       "       mfcc avg   mfcc mdn    mfcc std       mfcc sum      spc avg  \\\n",
       "0    -30.621037   0.000000  133.394226 -132282.875000   215.788225   \n",
       "1    -25.271778 -14.726506   43.930939 -109174.078125  3851.174848   \n",
       "2      6.678396   4.165037   16.359137   28850.671875  3417.287781   \n",
       "3      6.997509   4.692041   15.818431   30229.240234  3495.792669   \n",
       "4    -14.365158  -2.496537   98.979042  -62057.484375  1448.737715   \n",
       "...         ...        ...         ...            ...          ...   \n",
       "1995  -6.576713  -0.237287   59.854641  -28411.398438  1747.478407   \n",
       "1996 -12.022120 -10.838694   15.031034  -51935.558594  4090.176813   \n",
       "1997  -6.922936   0.210413   76.220184  -29907.085938  1405.561102   \n",
       "1998  -2.007078   1.065828   43.239983   -8670.578125  2345.897297   \n",
       "1999 -24.182295   0.000000  113.470818 -104467.515625  2094.141640   \n",
       "\n",
       "          spc mdn      spc std        spc sum   zcr avg   zcr mdn  ...  \\\n",
       "0        0.000000   717.176604   46610.256598  0.012221  0.000000  ...   \n",
       "1     3770.651034   471.515510  831853.767218  0.303727  0.303467  ...   \n",
       "2     3386.712550   319.508973  738134.160685  0.385362  0.399414  ...   \n",
       "3     3475.238825   183.036219  755091.216591  0.386979  0.398926  ...   \n",
       "4     1486.180399   390.742728  312927.346421  0.045754  0.043945  ...   \n",
       "...           ...          ...            ...       ...       ...  ...   \n",
       "1995  1671.889413   306.301225  377455.335829  0.103850  0.097412  ...   \n",
       "1996  4087.804534    86.412482  883478.191684  0.309326  0.314209  ...   \n",
       "1997  1518.197320   952.325587  303601.198062  0.041597  0.031738  ...   \n",
       "1998  2325.234869   324.291507  506713.816239  0.112822  0.115967  ...   \n",
       "1999  2916.537518  1804.158324  452334.594198  0.122866  0.135254  ...   \n",
       "\n",
       "         poly sum    tc avg    tc mdn    tc std     tc sum    ac avg  \\\n",
       "0       48.567494  0.008107  0.000000  0.057337  10.506051  0.000862   \n",
       "1      244.403774 -0.002649 -0.005608  0.079221  -3.433233  0.001883   \n",
       "2     1434.450520  0.004020  0.002992  0.041828   5.210136  0.050211   \n",
       "3     1451.893795 -0.004242 -0.003369  0.031381  -5.497910  0.047756   \n",
       "4       43.480455  0.003510 -0.000574  0.047373   4.549492  0.000060   \n",
       "...           ...       ...       ...       ...        ...       ...   \n",
       "1995   433.033715  0.022402  0.004366  0.099978  29.033614  0.007470   \n",
       "1996   631.218991 -0.022439 -0.024682  0.060606 -29.080494  0.006472   \n",
       "1997   325.879781  0.003534 -0.001723  0.054725   4.580664  0.008843   \n",
       "1998   443.478158  0.002648  0.003629  0.044488   3.431848  0.002788   \n",
       "1999   134.312011  0.002515  0.002617  0.075578   3.259941  0.002130   \n",
       "\n",
       "            ac mdn      ac std       ac sum        category  \n",
       "0    -2.629388e-18    1.980245    95.034199             dog  \n",
       "1    -2.706105e-03    4.992041   207.627041  chirping_birds  \n",
       "2     4.283366e-02  165.720405  5535.731441  vacuum_cleaner  \n",
       "3    -2.901005e-01  713.349622  5265.063297  vacuum_cleaner  \n",
       "4    -3.430340e-05    0.298194     6.667188    thunderstorm  \n",
       "...            ...         ...          ...             ...  \n",
       "1995  5.828310e-05   23.564728   823.530559             hen  \n",
       "1996  1.537501e-02   79.680088   713.503296  vacuum_cleaner  \n",
       "1997 -7.706453e-16   57.809372   974.955606       footsteps  \n",
       "1998 -1.577616e-02    4.704439   307.363161           sheep  \n",
       "1999  6.481551e-16    3.861148   234.872327             dog  \n",
       "\n",
       "[2000 rows x 49 columns]"
      ]
     },
     "execution_count": 2,
     "metadata": {},
     "output_type": "execute_result"
    }
   ],
   "source": [
    "feat_df = pd.read_csv(r\"C:\\Users\\trito.DESKTOP-V9IEUOR\\Desktop\\IronHack Data Analyst\\Projects\\Final-Project-DA\\Data\\final_df.csv\")\n",
    "feat_df[\"class\"] = feat_df[\"class\"].str.replace(\"/\", \"-\")\n",
    "feat_df = feat_df.drop(columns=[\"Unnamed: 0\",\"Unnamed: 0.1\", \"file name\", \"filename\", \"class\"])\n",
    "feat_df"
   ]
  },
  {
   "cell_type": "markdown",
   "metadata": {
    "heading_collapsed": true,
    "hidden": true
   },
   "source": [
    "## Model"
   ]
  },
  {
   "cell_type": "code",
   "execution_count": 3,
   "metadata": {
    "ExecuteTime": {
     "end_time": "2021-07-28T20:26:17.303096Z",
     "start_time": "2021-07-28T20:26:17.296078Z"
    },
    "hidden": true
   },
   "outputs": [
    {
     "data": {
      "text/plain": [
       "['mfcc mdn',\n",
       " 'mfcc sum',\n",
       " 'spc mdn',\n",
       " 'spc sum',\n",
       " 'zcr mdn',\n",
       " 'zcr sum',\n",
       " 'chroma mdn',\n",
       " 'chroma sum',\n",
       " 'sro mdn',\n",
       " 'sro sum',\n",
       " 'spbw mdn',\n",
       " 'spbw sum',\n",
       " 'rms mdn',\n",
       " 'rms sum',\n",
       " 'spfl mdn',\n",
       " 'spfl sum',\n",
       " 'spct mdn',\n",
       " 'spct sum',\n",
       " 'poly mdn',\n",
       " 'poly sum',\n",
       " 'tc mdn',\n",
       " 'tc sum',\n",
       " 'ac mdn',\n",
       " 'ac sum']"
      ]
     },
     "execution_count": 3,
     "metadata": {},
     "output_type": "execute_result"
    }
   ],
   "source": [
    "columns_todrop = []\n",
    "for i in feat_df.columns:\n",
    "    if \"mdn\" in i or \"sum\" in i:\n",
    "        columns_todrop.append(i)\n",
    "columns_todrop"
   ]
  },
  {
   "cell_type": "code",
   "execution_count": 4,
   "metadata": {
    "ExecuteTime": {
     "end_time": "2021-07-28T20:26:17.978518Z",
     "start_time": "2021-07-28T20:26:17.966231Z"
    },
    "hidden": true
   },
   "outputs": [
    {
     "data": {
      "text/plain": [
       "['mfcc avg',\n",
       " 'spc avg',\n",
       " 'zcr avg',\n",
       " 'chroma avg',\n",
       " 'sro avg',\n",
       " 'spbw avg',\n",
       " 'rms avg',\n",
       " 'spfl avg',\n",
       " 'spct avg',\n",
       " 'poly avg',\n",
       " 'tc avg',\n",
       " 'ac avg']"
      ]
     },
     "execution_count": 4,
     "metadata": {},
     "output_type": "execute_result"
    }
   ],
   "source": [
    "columns_avg = []\n",
    "for i in feat_df.columns:\n",
    "    if \"avg\" in i:\n",
    "        columns_avg.append(i)\n",
    "columns_avg"
   ]
  },
  {
   "cell_type": "code",
   "execution_count": 5,
   "metadata": {
    "ExecuteTime": {
     "end_time": "2021-07-28T20:26:21.527477Z",
     "start_time": "2021-07-28T20:26:21.494020Z"
    },
    "hidden": true
   },
   "outputs": [
    {
     "data": {
      "text/plain": [
       "array([[1., 0., 0., ..., 0., 0., 0.],\n",
       "       [0., 1., 0., ..., 0., 0., 0.],\n",
       "       [0., 0., 1., ..., 0., 0., 0.],\n",
       "       ...,\n",
       "       [0., 0., 0., ..., 0., 0., 0.],\n",
       "       [0., 0., 0., ..., 0., 0., 0.],\n",
       "       [1., 0., 0., ..., 0., 0., 0.]], dtype=float32)"
      ]
     },
     "execution_count": 5,
     "metadata": {},
     "output_type": "execute_result"
    }
   ],
   "source": [
    "# Transform the y split to categorical array.\n",
    "y = feat_df[\"category\"]\n",
    "y_values = y.unique().tolist()\n",
    "class_conversion = { value: index for index, value in enumerate(y_values)}\n",
    "y1 = y.replace(class_conversion)\n",
    "y_a = keras.utils.to_categorical(y1, num_classes=50)\n",
    "y_a"
   ]
  },
  {
   "cell_type": "code",
   "execution_count": 6,
   "metadata": {
    "ExecuteTime": {
     "end_time": "2021-07-28T20:26:31.646507Z",
     "start_time": "2021-07-28T20:26:31.603622Z"
    },
    "hidden": true
   },
   "outputs": [],
   "source": [
    "from sklearn.model_selection import train_test_split\n",
    "X = feat_df.drop(columns_todrop+[\"category\"], axis=1)   # COntains all the avg and std.\n",
    "# X = feat_df.drop(columns_todrop+columns_avg+[\"class\"], axis=1) # Only columns with std\n",
    "# X = feat_df[[\"mfcc avg\", \"spc avg\", \"zcr avg\"]] # Looks okay\n",
    "# X = feat_df[[\"mfcc std\", \"zcr std\", \"chroma std\", \"spfl std\"]]\n",
    "\n",
    "y = y_a\n",
    "X_train, X_test, y_train, y_test = train_test_split(X, y, test_size=0.20, random_state=7)"
   ]
  },
  {
   "cell_type": "code",
   "execution_count": 7,
   "metadata": {
    "ExecuteTime": {
     "end_time": "2021-07-28T20:26:53.908162Z",
     "start_time": "2021-07-28T20:26:53.797539Z"
    },
    "hidden": true
   },
   "outputs": [],
   "source": [
    "from sklearn.preprocessing import PowerTransformer\n",
    "\n",
    "trans = PowerTransformer()\n",
    "trans.fit(X_train)\n",
    "\n",
    "X_train_trans = trans.transform(X_train)\n",
    "X_test_trans = trans.transform(X_test)\n",
    "\n",
    "X_train_trans = pd.DataFrame(X_train_trans, columns = X_train.columns) # To have columns names.\n",
    "X_test_trans = pd.DataFrame(X_test_trans,  columns = X_test.columns)"
   ]
  },
  {
   "cell_type": "code",
   "execution_count": 8,
   "metadata": {
    "ExecuteTime": {
     "end_time": "2021-07-28T20:26:56.087790Z",
     "start_time": "2021-07-28T20:26:55.499574Z"
    },
    "hidden": true
   },
   "outputs": [],
   "source": [
    "model_c1 = keras.Sequential()\n",
    "\n",
    "model_c1.add(Dense(units = 256,input_dim = X_train.shape[1],activation='relu')) # Firstly units=32\n",
    "model_c1.add( Dropout(0.5) )\n",
    "# Adding a new hidden layer with three neurons with \"RELU\" activation function\n",
    "model_c1.add(Dense(units = 128,activation='relu')) #Firstly units=16\n",
    "model_c1.add( Dropout(0.5) )\n",
    "# Adding the final layer\n",
    "model_c1.add(Dense(units = 50, activation='softmax'))\n",
    "# Compile the final network\n",
    "model_c1.compile(optimizer='rmsprop', # Optimization method\n",
    "              loss='categorical_crossentropy', # Error metric to minimize\n",
    "              metrics=['accuracy'] # Error metrics to report\n",
    "              )\n",
    "#model.compile(loss='binary_crossentropy', optimizer='adam', metrics=['accuracy'])\n",
    "\n",
    "# model_c1.summary()"
   ]
  },
  {
   "cell_type": "code",
   "execution_count": 11,
   "metadata": {
    "ExecuteTime": {
     "end_time": "2021-07-28T20:27:17.307101Z",
     "start_time": "2021-07-28T20:27:17.295864Z"
    },
    "hidden": true
   },
   "outputs": [],
   "source": [
    "early_stopping = EarlyStopping(patience=5)\n",
    "checkpoint_path = r'C:\\Users\\trito.DESKTOP-V9IEUOR\\Desktop\\IronHack Data Analyst\\Projects\\Final-Project-DA\\Code\\Saved models\\cls-nn2.hdf5'\n",
    "# checkpoint = ModelCheckpoint(\n",
    "#     filepath=checkpoint_path,\n",
    "#     save_freq='epoch',\n",
    "#     save_weights_only=False,\n",
    "#     verbose=1)"
   ]
  },
  {
   "cell_type": "code",
   "execution_count": 12,
   "metadata": {
    "ExecuteTime": {
     "end_time": "2021-07-28T20:27:21.629336Z",
     "start_time": "2021-07-28T20:27:20.033082Z"
    },
    "hidden": true
   },
   "outputs": [
    {
     "name": "stdout",
     "output_type": "stream",
     "text": [
      "Epoch 1/60\n",
      "128/128 - 1s - loss: 298.3249 - accuracy: 0.0266 - val_loss: 4.0691 - val_accuracy: 0.0125\n",
      "Epoch 2/60\n",
      "128/128 - 0s - loss: 13.6069 - accuracy: 0.0227 - val_loss: 3.9161 - val_accuracy: 0.0125\n",
      "Epoch 3/60\n",
      "128/128 - 0s - loss: 7.1527 - accuracy: 0.0211 - val_loss: 3.9167 - val_accuracy: 0.0125\n",
      "Epoch 4/60\n",
      "128/128 - 0s - loss: 5.7133 - accuracy: 0.0250 - val_loss: 3.9181 - val_accuracy: 0.0125\n",
      "Epoch 5/60\n",
      "128/128 - 0s - loss: 5.2421 - accuracy: 0.0227 - val_loss: 3.9195 - val_accuracy: 0.0125\n",
      "Epoch 6/60\n",
      "128/128 - 0s - loss: 4.8610 - accuracy: 0.0234 - val_loss: 3.9209 - val_accuracy: 0.0125\n",
      "Epoch 7/60\n",
      "128/128 - 0s - loss: 4.6621 - accuracy: 0.0250 - val_loss: 3.9224 - val_accuracy: 0.0125\n"
     ]
    }
   ],
   "source": [
    "history_c1 = model_c1.fit(X_train, y_train, epochs=60, validation_split=0.20, batch_size=10, verbose=2, callbacks=[early_stopping]) #,checkpoint"
   ]
  },
  {
   "cell_type": "code",
   "execution_count": 13,
   "metadata": {
    "ExecuteTime": {
     "end_time": "2021-07-28T20:27:29.915289Z",
     "start_time": "2021-07-28T20:27:29.333357Z"
    },
    "hidden": true
   },
   "outputs": [
    {
     "data": {
      "image/png": "[encoded data removed]",
      "text/plain": [
       "<Figure size 432x288 with 1 Axes>"
      ]
     },
     "metadata": {
      "needs_background": "light"
     },
     "output_type": "display_data"
    }
   ],
   "source": [
    "def plot_metric(history, metric):\n",
    "    train_metrics = history.history[metric]\n",
    "    val_metrics = history.history['val_'+metric]\n",
    "    epochs = range(1, len(train_metrics) + 1)\n",
    "    plt.plot(epochs, train_metrics)\n",
    "    plt.plot(epochs, val_metrics)\n",
    "    plt.title('Training and validation '+ metric)\n",
    "    plt.xlabel(\"Epochs\")\n",
    "    plt.ylabel(metric)\n",
    "    plt.yscale('log')\n",
    "    plt.legend([\"train_\"+metric, 'val_'+metric])\n",
    "    plt.show()\n",
    "\n",
    "plot_metric(history_c1,'loss')"
   ]
  },
  {
   "cell_type": "code",
   "execution_count": 14,
   "metadata": {
    "ExecuteTime": {
     "end_time": "2021-07-28T20:27:38.298492Z",
     "start_time": "2021-07-28T20:27:38.281490Z"
    },
    "hidden": true
   },
   "outputs": [],
   "source": [
    "def model_performance_class(y_train, y_pred_train, y_test, y_pred_test):\n",
    "\n",
    "    from sklearn.metrics import cohen_kappa_score, classification_report \n",
    "\n",
    "\n",
    "    print(\"Results obtained for the TRAIN SET\")\n",
    "    print(\"==================================\")\n",
    "    print(\"The Cohen's Kappa is: {:.2f}\".format(cohen_kappa_score(y_train, y_pred_train)))\n",
    "    print(classification_report(y_train, y_pred_train))\n",
    "    print(\"==================================\")\n",
    "    print(\"Results obtained for the TEST SET\")\n",
    "    print(\"The Cohen's Kappa is: {:.2f}\".format(cohen_kappa_score(y_test, y_pred_test)))\n",
    "    print(classification_report(y_test, y_pred_test))"
   ]
  },
  {
   "cell_type": "code",
   "execution_count": 16,
   "metadata": {
    "ExecuteTime": {
     "end_time": "2021-07-28T20:27:53.801397Z",
     "start_time": "2021-07-28T20:27:53.630523Z"
    },
    "hidden": true
   },
   "outputs": [
    {
     "name": "stdout",
     "output_type": "stream",
     "text": [
      "Results obtained for the TRAIN SET\n",
      "==================================\n"
     ]
    },
    {
     "ename": "ValueError",
     "evalue": "Classification metrics can't handle a mix of multilabel-indicator and multiclass targets",
     "output_type": "error",
     "traceback": [
      "\u001b[1;31m---------------------------------------------------------------------------\u001b[0m",
      "\u001b[1;31mValueError\u001b[0m                                Traceback (most recent call last)",
      "\u001b[1;32m<ipython-input-16-0d7fe0e39cf9>\u001b[0m in \u001b[0;36m<module>\u001b[1;34m\u001b[0m\n\u001b[0;32m      7\u001b[0m \u001b[0my_pred_test_c1\u001b[0m  \u001b[1;33m=\u001b[0m \u001b[0mnp\u001b[0m\u001b[1;33m.\u001b[0m\u001b[0margmax\u001b[0m\u001b[1;33m(\u001b[0m\u001b[0my_pred_test_c1\u001b[0m\u001b[1;33m,\u001b[0m \u001b[0maxis\u001b[0m\u001b[1;33m=\u001b[0m\u001b[1;36m1\u001b[0m\u001b[1;33m)\u001b[0m\u001b[1;33m.\u001b[0m\u001b[0mreshape\u001b[0m\u001b[1;33m(\u001b[0m\u001b[1;33m-\u001b[0m\u001b[1;36m1\u001b[0m\u001b[1;33m,\u001b[0m\u001b[1;36m1\u001b[0m\u001b[1;33m)\u001b[0m\u001b[1;33m\u001b[0m\u001b[1;33m\u001b[0m\u001b[0m\n\u001b[0;32m      8\u001b[0m \u001b[1;33m\u001b[0m\u001b[0m\n\u001b[1;32m----> 9\u001b[1;33m \u001b[0mmodel_performance_class\u001b[0m\u001b[1;33m(\u001b[0m\u001b[0my_train\u001b[0m\u001b[1;33m,\u001b[0m \u001b[0my_pred_train_c1\u001b[0m\u001b[1;33m,\u001b[0m \u001b[0my_test\u001b[0m\u001b[1;33m,\u001b[0m \u001b[0my_pred_test_c1\u001b[0m\u001b[1;33m)\u001b[0m\u001b[1;33m\u001b[0m\u001b[1;33m\u001b[0m\u001b[0m\n\u001b[0m\u001b[0;32m     10\u001b[0m \u001b[1;33m\u001b[0m\u001b[0m\n\u001b[0;32m     11\u001b[0m \u001b[1;31m# Acceptable Kappa is above 0.60\u001b[0m\u001b[1;33m\u001b[0m\u001b[1;33m\u001b[0m\u001b[1;33m\u001b[0m\u001b[0m\n",
      "\u001b[1;32m<ipython-input-14-064b3cd225c9>\u001b[0m in \u001b[0;36mmodel_performance_class\u001b[1;34m(y_train, y_pred_train, y_test, y_pred_test)\u001b[0m\n\u001b[0;32m      6\u001b[0m     \u001b[0mprint\u001b[0m\u001b[1;33m(\u001b[0m\u001b[1;34m\"Results obtained for the TRAIN SET\"\u001b[0m\u001b[1;33m)\u001b[0m\u001b[1;33m\u001b[0m\u001b[1;33m\u001b[0m\u001b[0m\n\u001b[0;32m      7\u001b[0m     \u001b[0mprint\u001b[0m\u001b[1;33m(\u001b[0m\u001b[1;34m\"==================================\"\u001b[0m\u001b[1;33m)\u001b[0m\u001b[1;33m\u001b[0m\u001b[1;33m\u001b[0m\u001b[0m\n\u001b[1;32m----> 8\u001b[1;33m     \u001b[0mprint\u001b[0m\u001b[1;33m(\u001b[0m\u001b[1;34m\"The Cohen's Kappa is: {:.2f}\"\u001b[0m\u001b[1;33m.\u001b[0m\u001b[0mformat\u001b[0m\u001b[1;33m(\u001b[0m\u001b[0mcohen_kappa_score\u001b[0m\u001b[1;33m(\u001b[0m\u001b[0my_train\u001b[0m\u001b[1;33m,\u001b[0m \u001b[0my_pred_train\u001b[0m\u001b[1;33m)\u001b[0m\u001b[1;33m)\u001b[0m\u001b[1;33m)\u001b[0m\u001b[1;33m\u001b[0m\u001b[1;33m\u001b[0m\u001b[0m\n\u001b[0m\u001b[0;32m      9\u001b[0m     \u001b[0mprint\u001b[0m\u001b[1;33m(\u001b[0m\u001b[0mclassification_report\u001b[0m\u001b[1;33m(\u001b[0m\u001b[0my_train\u001b[0m\u001b[1;33m,\u001b[0m \u001b[0my_pred_train\u001b[0m\u001b[1;33m)\u001b[0m\u001b[1;33m)\u001b[0m\u001b[1;33m\u001b[0m\u001b[1;33m\u001b[0m\u001b[0m\n\u001b[0;32m     10\u001b[0m     \u001b[0mprint\u001b[0m\u001b[1;33m(\u001b[0m\u001b[1;34m\"==================================\"\u001b[0m\u001b[1;33m)\u001b[0m\u001b[1;33m\u001b[0m\u001b[1;33m\u001b[0m\u001b[0m\n",
      "\u001b[1;32m~\\anaconda3\\lib\\site-packages\\sklearn\\utils\\validation.py\u001b[0m in \u001b[0;36minner_f\u001b[1;34m(*args, **kwargs)\u001b[0m\n\u001b[0;32m     70\u001b[0m                           FutureWarning)\n\u001b[0;32m     71\u001b[0m         \u001b[0mkwargs\u001b[0m\u001b[1;33m.\u001b[0m\u001b[0mupdate\u001b[0m\u001b[1;33m(\u001b[0m\u001b[1;33m{\u001b[0m\u001b[0mk\u001b[0m\u001b[1;33m:\u001b[0m \u001b[0marg\u001b[0m \u001b[1;32mfor\u001b[0m \u001b[0mk\u001b[0m\u001b[1;33m,\u001b[0m \u001b[0marg\u001b[0m \u001b[1;32min\u001b[0m \u001b[0mzip\u001b[0m\u001b[1;33m(\u001b[0m\u001b[0msig\u001b[0m\u001b[1;33m.\u001b[0m\u001b[0mparameters\u001b[0m\u001b[1;33m,\u001b[0m \u001b[0margs\u001b[0m\u001b[1;33m)\u001b[0m\u001b[1;33m}\u001b[0m\u001b[1;33m)\u001b[0m\u001b[1;33m\u001b[0m\u001b[1;33m\u001b[0m\u001b[0m\n\u001b[1;32m---> 72\u001b[1;33m         \u001b[1;32mreturn\u001b[0m \u001b[0mf\u001b[0m\u001b[1;33m(\u001b[0m\u001b[1;33m**\u001b[0m\u001b[0mkwargs\u001b[0m\u001b[1;33m)\u001b[0m\u001b[1;33m\u001b[0m\u001b[1;33m\u001b[0m\u001b[0m\n\u001b[0m\u001b[0;32m     73\u001b[0m     \u001b[1;32mreturn\u001b[0m \u001b[0minner_f\u001b[0m\u001b[1;33m\u001b[0m\u001b[1;33m\u001b[0m\u001b[0m\n\u001b[0;32m     74\u001b[0m \u001b[1;33m\u001b[0m\u001b[0m\n",
      "\u001b[1;32m~\\anaconda3\\lib\\site-packages\\sklearn\\metrics\\_classification.py\u001b[0m in \u001b[0;36mcohen_kappa_score\u001b[1;34m(y1, y2, labels, weights, sample_weight)\u001b[0m\n\u001b[0;32m    598\u001b[0m             \u001b[1;33m<\u001b[0m\u001b[0mhttps\u001b[0m\u001b[1;33m:\u001b[0m\u001b[1;33m//\u001b[0m\u001b[0men\u001b[0m\u001b[1;33m.\u001b[0m\u001b[0mwikipedia\u001b[0m\u001b[1;33m.\u001b[0m\u001b[0morg\u001b[0m\u001b[1;33m/\u001b[0m\u001b[0mwiki\u001b[0m\u001b[1;33m/\u001b[0m\u001b[0mCohen\u001b[0m\u001b[1;33m%\u001b[0m\u001b[1;36m27\u001b[0m\u001b[0ms_kappa\u001b[0m\u001b[1;33m>\u001b[0m\u001b[0;31m`\u001b[0m\u001b[0m_\u001b[0m\u001b[1;33m\u001b[0m\u001b[1;33m\u001b[0m\u001b[0m\n\u001b[0;32m    599\u001b[0m     \"\"\"\n\u001b[1;32m--> 600\u001b[1;33m     confusion = confusion_matrix(y1, y2, labels=labels,\n\u001b[0m\u001b[0;32m    601\u001b[0m                                  sample_weight=sample_weight)\n\u001b[0;32m    602\u001b[0m     \u001b[0mn_classes\u001b[0m \u001b[1;33m=\u001b[0m \u001b[0mconfusion\u001b[0m\u001b[1;33m.\u001b[0m\u001b[0mshape\u001b[0m\u001b[1;33m[\u001b[0m\u001b[1;36m0\u001b[0m\u001b[1;33m]\u001b[0m\u001b[1;33m\u001b[0m\u001b[1;33m\u001b[0m\u001b[0m\n",
      "\u001b[1;32m~\\anaconda3\\lib\\site-packages\\sklearn\\utils\\validation.py\u001b[0m in \u001b[0;36minner_f\u001b[1;34m(*args, **kwargs)\u001b[0m\n\u001b[0;32m     70\u001b[0m                           FutureWarning)\n\u001b[0;32m     71\u001b[0m         \u001b[0mkwargs\u001b[0m\u001b[1;33m.\u001b[0m\u001b[0mupdate\u001b[0m\u001b[1;33m(\u001b[0m\u001b[1;33m{\u001b[0m\u001b[0mk\u001b[0m\u001b[1;33m:\u001b[0m \u001b[0marg\u001b[0m \u001b[1;32mfor\u001b[0m \u001b[0mk\u001b[0m\u001b[1;33m,\u001b[0m \u001b[0marg\u001b[0m \u001b[1;32min\u001b[0m \u001b[0mzip\u001b[0m\u001b[1;33m(\u001b[0m\u001b[0msig\u001b[0m\u001b[1;33m.\u001b[0m\u001b[0mparameters\u001b[0m\u001b[1;33m,\u001b[0m \u001b[0margs\u001b[0m\u001b[1;33m)\u001b[0m\u001b[1;33m}\u001b[0m\u001b[1;33m)\u001b[0m\u001b[1;33m\u001b[0m\u001b[1;33m\u001b[0m\u001b[0m\n\u001b[1;32m---> 72\u001b[1;33m         \u001b[1;32mreturn\u001b[0m \u001b[0mf\u001b[0m\u001b[1;33m(\u001b[0m\u001b[1;33m**\u001b[0m\u001b[0mkwargs\u001b[0m\u001b[1;33m)\u001b[0m\u001b[1;33m\u001b[0m\u001b[1;33m\u001b[0m\u001b[0m\n\u001b[0m\u001b[0;32m     73\u001b[0m     \u001b[1;32mreturn\u001b[0m \u001b[0minner_f\u001b[0m\u001b[1;33m\u001b[0m\u001b[1;33m\u001b[0m\u001b[0m\n\u001b[0;32m     74\u001b[0m \u001b[1;33m\u001b[0m\u001b[0m\n",
      "\u001b[1;32m~\\anaconda3\\lib\\site-packages\\sklearn\\metrics\\_classification.py\u001b[0m in \u001b[0;36mconfusion_matrix\u001b[1;34m(y_true, y_pred, labels, sample_weight, normalize)\u001b[0m\n\u001b[0;32m    274\u001b[0m \u001b[1;33m\u001b[0m\u001b[0m\n\u001b[0;32m    275\u001b[0m     \"\"\"\n\u001b[1;32m--> 276\u001b[1;33m     \u001b[0my_type\u001b[0m\u001b[1;33m,\u001b[0m \u001b[0my_true\u001b[0m\u001b[1;33m,\u001b[0m \u001b[0my_pred\u001b[0m \u001b[1;33m=\u001b[0m \u001b[0m_check_targets\u001b[0m\u001b[1;33m(\u001b[0m\u001b[0my_true\u001b[0m\u001b[1;33m,\u001b[0m \u001b[0my_pred\u001b[0m\u001b[1;33m)\u001b[0m\u001b[1;33m\u001b[0m\u001b[1;33m\u001b[0m\u001b[0m\n\u001b[0m\u001b[0;32m    277\u001b[0m     \u001b[1;32mif\u001b[0m \u001b[0my_type\u001b[0m \u001b[1;32mnot\u001b[0m \u001b[1;32min\u001b[0m \u001b[1;33m(\u001b[0m\u001b[1;34m\"binary\"\u001b[0m\u001b[1;33m,\u001b[0m \u001b[1;34m\"multiclass\"\u001b[0m\u001b[1;33m)\u001b[0m\u001b[1;33m:\u001b[0m\u001b[1;33m\u001b[0m\u001b[1;33m\u001b[0m\u001b[0m\n\u001b[0;32m    278\u001b[0m         \u001b[1;32mraise\u001b[0m \u001b[0mValueError\u001b[0m\u001b[1;33m(\u001b[0m\u001b[1;34m\"%s is not supported\"\u001b[0m \u001b[1;33m%\u001b[0m \u001b[0my_type\u001b[0m\u001b[1;33m)\u001b[0m\u001b[1;33m\u001b[0m\u001b[1;33m\u001b[0m\u001b[0m\n",
      "\u001b[1;32m~\\anaconda3\\lib\\site-packages\\sklearn\\metrics\\_classification.py\u001b[0m in \u001b[0;36m_check_targets\u001b[1;34m(y_true, y_pred)\u001b[0m\n\u001b[0;32m     88\u001b[0m \u001b[1;33m\u001b[0m\u001b[0m\n\u001b[0;32m     89\u001b[0m     \u001b[1;32mif\u001b[0m \u001b[0mlen\u001b[0m\u001b[1;33m(\u001b[0m\u001b[0my_type\u001b[0m\u001b[1;33m)\u001b[0m \u001b[1;33m>\u001b[0m \u001b[1;36m1\u001b[0m\u001b[1;33m:\u001b[0m\u001b[1;33m\u001b[0m\u001b[1;33m\u001b[0m\u001b[0m\n\u001b[1;32m---> 90\u001b[1;33m         raise ValueError(\"Classification metrics can't handle a mix of {0} \"\n\u001b[0m\u001b[0;32m     91\u001b[0m                          \"and {1} targets\".format(type_true, type_pred))\n\u001b[0;32m     92\u001b[0m \u001b[1;33m\u001b[0m\u001b[0m\n",
      "\u001b[1;31mValueError\u001b[0m: Classification metrics can't handle a mix of multilabel-indicator and multiclass targets"
     ]
    }
   ],
   "source": [
    "y_pred_train_c1 = model_c1.predict(X_train_trans) # This provides the probability for each class\n",
    "y_pred_test_c1  = model_c1.predict(X_test_trans) # This provides the probability for each class\n",
    "\n",
    "# We need to extract for each row which is the class which the highest probability\n",
    "# which corresponds to the index of the sublist\n",
    "y_pred_train_c1 = np.argmax(y_pred_train_c1, axis=1).reshape(-1,1)\n",
    "y_pred_test_c1  = np.argmax(y_pred_test_c1, axis=1).reshape(-1,1)\n",
    "\n",
    "model_performance_class(y_train, y_pred_train_c1, y_test, y_pred_test_c1)\n",
    "\n",
    "# Acceptable Kappa is above 0.60"
   ]
  }
 ],
 "metadata": {
  "kernelspec": {
   "display_name": "Python 3",
   "language": "python",
   "name": "python3"
  },
  "language_info": {
   "codemirror_mode": {
    "name": "ipython",
    "version": 3
   },
   "file_extension": ".py",
   "mimetype": "text/x-python",
   "name": "python",
   "nbconvert_exporter": "python",
   "pygments_lexer": "ipython3",
   "version": "3.8.5"
  },
  "toc": {
   "base_numbering": 1,
   "nav_menu": {},
   "number_sections": true,
   "sideBar": true,
   "skip_h1_title": false,
   "title_cell": "Table of Contents",
   "title_sidebar": "Contents",
   "toc_cell": false,
   "toc_position": {},
   "toc_section_display": true,
   "toc_window_display": false
  }
 },
 "nbformat": 4,
 "nbformat_minor": 4
}
